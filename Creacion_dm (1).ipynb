{
 "cells": [
  {
   "cell_type": "code",
   "execution_count": 292,
   "metadata": {},
   "outputs": [],
   "source": [
    "import pandas as pd\n",
    "import pyodbc"
   ]
  },
  {
   "cell_type": "code",
   "execution_count": null,
   "metadata": {},
   "outputs": [],
   "source": [
    "#----------------------------------- Configura la conexión a SQL Server DataMart --------------------------------\n",
    "conn = pyodbc.connect(\n",
    "    'DRIVER={ODBC Driver 17 for SQL Server};'  # Asegúrate de tener el controlador adecuado\n",
    "    'SERVER=localhost;'                  # Reemplaza con el nombre de tu servidor\n",
    "    'DATABASE=datamart_proyecto15;'           # Reemplaza con el nombre de tu base de datos\n",
    "    'UID=sa;'                             # Reemplaza con tu nombre de usuario\n",
    "    'PWD=1234567890'                           # Reemplaza con tu contraseña\n",
    ")\n",
    "cursor = conn.cursor()"
   ]
  },
  {
   "cell_type": "code",
   "execution_count": null,
   "metadata": {},
   "outputs": [
    {
     "name": "stdout",
     "output_type": "stream",
     "text": [
      "Tablas de dimensiones y tabla de hechos creadas o verificadas con éxito.\n"
     ]
    }
   ],
   "source": [
    "# Crear las tablas de dimensiones y tabla de hechos en SQL Server\n",
    "\n",
    "cursor.execute(\"\"\"\n",
    "IF OBJECT_ID('dimTiempo', 'U') IS NULL\n",
    "    CREATE TABLE dimTiempo (\n",
    "        idTiempo INT PRIMARY KEY,\n",
    "        año INT,\n",
    "        mes INT\n",
    "    );\n",
    "\n",
    "IF OBJECT_ID('dimDistrito', 'U') IS NULL\n",
    "    CREATE TABLE dimDistrito (\n",
    "        id_distrito INT PRIMARY KEY,\n",
    "        nombre_distrito VARCHAR(255)\n",
    "    );    \n",
    "    \n",
    "IF OBJECT_ID('dimProvincia', 'U') IS NULL\n",
    "    CREATE TABLE dimProvincia (\n",
    "        id_provincia INT PRIMARY KEY,\n",
    "        nombre_provincia VARCHAR(255)\n",
    "    );    \n",
    "    \n",
    "IF OBJECT_ID('dimDepartamento', 'U') IS NULL\n",
    "    CREATE TABLE dimDepartamento (\n",
    "        id_departamento INT PRIMARY KEY,\n",
    "        nombre_departamento VARCHAR(255)\n",
    "    ); \n",
    "\n",
    "IF OBJECT_ID('dimSexo', 'U') IS NULL\n",
    "    CREATE TABLE dimSexo (\n",
    "        idSexo INT PRIMARY KEY,\n",
    "        sexo VARCHAR(255)\n",
    "    );\n",
    "\n",
    "IF OBJECT_ID('dimEstadoCivil', 'U') IS NULL\n",
    "    CREATE TABLE dimEstadoCivil (\n",
    "        idEstadoCivil INT PRIMARY KEY,\n",
    "        estadoCivil VARCHAR(255)\n",
    "    );\n",
    "\n",
    "IF OBJECT_ID('dimEducacion', 'U') IS NULL\n",
    "    CREATE TABLE dimEducacion (\n",
    "        idEducacion INT PRIMARY KEY,\n",
    "        gradoInstruccion VARCHAR(255)\n",
    "    );\n",
    "\n",
    "IF OBJECT_ID('dimTrabajo', 'U') IS NULL\n",
    "    CREATE TABLE dimTrabajo (\n",
    "        idTrabajo INT PRIMARY KEY,\n",
    "        laborDesempeñada VARCHAR(255)\n",
    "    );\n",
    "\n",
    "IF OBJECT_ID('dimTipoVivienda', 'U') IS NULL\n",
    "    CREATE TABLE dimTipoVivienda (\n",
    "        idTipoVivienda INT PRIMARY KEY,\n",
    "        tipoVivienda VARCHAR(255)\n",
    "    );\n",
    "\n",
    "IF OBJECT_ID('dimAgua', 'U') IS NULL\n",
    "    CREATE TABLE dimAgua (\n",
    "        idAgua INT PRIMARY KEY,\n",
    "        agua VARCHAR(255)\n",
    "    );\n",
    "\n",
    "IF OBJECT_ID('dimTelefono', 'U') IS NULL\n",
    "    CREATE TABLE dimTelefono (\n",
    "        idTelefono INT PRIMARY KEY,\n",
    "        telefono VARCHAR(255)\n",
    "    );\n",
    "\n",
    "IF OBJECT_ID('dimCelular', 'U') IS NULL\n",
    "    CREATE TABLE dimCelular (\n",
    "        idCelular INT PRIMARY KEY,\n",
    "        celular VARCHAR(255)\n",
    "    );\n",
    "\n",
    "IF OBJECT_ID('dimTelevision', 'U') IS NULL\n",
    "    CREATE TABLE dimTelevision (\n",
    "        idTelevision INT PRIMARY KEY,\n",
    "        television VARCHAR(255)\n",
    "    );\n",
    "\n",
    "IF OBJECT_ID('dimInternet', 'U') IS NULL\n",
    "    CREATE TABLE dimInternet (\n",
    "        idInternet INT PRIMARY KEY,\n",
    "        internet VARCHAR(255)\n",
    "    );\n",
    "\n",
    "IF OBJECT_ID('dimServiciosHigienicos', 'U') IS NULL\n",
    "    CREATE TABLE dimServiciosHigienicos (\n",
    "        idServiciosHigienicos INT PRIMARY KEY,\n",
    "        serviciosHigienicos VARCHAR(255)\n",
    "    );\n",
    "               \n",
    "IF OBJECT_ID('dimEducacionNiños', 'U') IS NULL\n",
    "    CREATE TABLE dimEducacionNiños (\n",
    "        idEducacionNiños INT PRIMARY KEY,\n",
    "        niñosEnColegio VARCHAR(255)\n",
    "    );\n",
    "\n",
    "IF OBJECT_ID('dimEstadoVivienda', 'U') IS NULL\n",
    "    CREATE TABLE dimEstadoVivienda (\n",
    "        idEstadoVivienda INT PRIMARY KEY,\n",
    "        estadoVivienda VARCHAR(255)\n",
    "    );\n",
    "\n",
    "IF OBJECT_ID('factBalanceEconomico', 'U') IS NULL\n",
    "    CREATE TABLE factBalanceEconomico (\n",
    "        idTiempo INT,\n",
    "        id_departamento INT,\n",
    "        id_provincia INT,\n",
    "        id_distrito INT,\n",
    "        idSexo INT,\n",
    "        idEstadoCivil INT,\n",
    "        idEducacion INT,\n",
    "        idTrabajo INT,\n",
    "        idTipoVivienda INT,\n",
    "        idAgua INT,\n",
    "        idTelefono INT,\n",
    "        idCelular INT,\n",
    "        idTelevision INT,\n",
    "        idInternet INT,\n",
    "        idServiciosHigienicos INT,\n",
    "        idEducacionNiños INT,\n",
    "        idEstadoVivienda INT,\n",
    "        gananciaNeta FLOAT,\n",
    "        gastoEnProductos FLOAT,\n",
    "        horasTrabajoSemAnterior INT,\n",
    "        tiempoTrabajoAños INT,\n",
    "        tiempoTrabajoMeses INT,\n",
    "        numeroHabitaciones INT,\n",
    "        altitud FLOAT,\n",
    "        latitud FLOAT,\n",
    "        longitud FLOAT,\n",
    "        FOREIGN KEY (idTiempo) REFERENCES dimTiempo(idTiempo),\n",
    "        FOREIGN KEY (id_departamento) REFERENCES dimDepartamento(id_departamento),\n",
    "        FOREIGN KEY (id_provincia) REFERENCES dimProvincia(id_provincia),\n",
    "        FOREIGN KEY (id_distrito) REFERENCES dimDistrito(id_distrito),\n",
    "        FOREIGN KEY (idSexo) REFERENCES dimSexo(idSexo),\n",
    "        FOREIGN KEY (idEstadoCivil) REFERENCES dimEstadoCivil(idEstadoCivil),\n",
    "        FOREIGN KEY (idEducacion) REFERENCES dimEducacion(idEducacion),\n",
    "        FOREIGN KEY (idTrabajo) REFERENCES dimTrabajo(idTrabajo),\n",
    "        FOREIGN KEY (idTipoVivienda) REFERENCES dimTipoVivienda(idTipoVivienda),\n",
    "        FOREIGN KEY (idAgua) REFERENCES dimAgua(idAgua),\n",
    "        FOREIGN KEY (idTelefono) REFERENCES dimTelefono(idTelefono),\n",
    "        FOREIGN KEY (idCelular) REFERENCES dimCelular(idCelular),\n",
    "        FOREIGN KEY (idTelevision) REFERENCES dimTelevision(idTelevision),\n",
    "        FOREIGN KEY (idInternet) REFERENCES dimInternet(idInternet),\n",
    "        FOREIGN KEY (idServiciosHigienicos) REFERENCES dimServiciosHigienicos(idServiciosHigienicos),\n",
    "        FOREIGN KEY (idEducacionNiños) REFERENCES dimEducacionNiños(idEducacionNiños),\n",
    "        FOREIGN KEY (idEstadoVivienda) REFERENCES dimEstadoVivienda(idEstadoVivienda)\n",
    "    );\n",
    "\"\"\")\n",
    "\n",
    "conn.commit()\n",
    "print(\"Tablas de dimensiones y tabla de hechos creadas o verificadas con éxito.\")"
   ]
  },
  {
   "cell_type": "code",
   "execution_count": 295,
   "metadata": {},
   "outputs": [],
   "source": [
    "def obtener_unicos_df(df, columna):\n",
    "    \"\"\"Devuelve un DataFrame con los valores únicos de una columna en el DataFrame.\"\"\"\n",
    "    if columna in df.columns:\n",
    "        # Obtener los valores únicos y convertirlos en un DataFrame\n",
    "        return pd.DataFrame(df[columna].unique(), columns=[columna])\n",
    "    else:\n",
    "        raise ValueError(f\"La columna '{columna}' no existe en el DataFrame.\")"
   ]
  },
  {
   "cell_type": "code",
   "execution_count": 296,
   "metadata": {},
   "outputs": [
    {
     "data": {
      "text/html": [
       "<div>\n",
       "<style scoped>\n",
       "    .dataframe tbody tr th:only-of-type {\n",
       "        vertical-align: middle;\n",
       "    }\n",
       "\n",
       "    .dataframe tbody tr th {\n",
       "        vertical-align: top;\n",
       "    }\n",
       "\n",
       "    .dataframe thead th {\n",
       "        text-align: right;\n",
       "    }\n",
       "</style>\n",
       "<table border=\"1\" class=\"dataframe\">\n",
       "  <thead>\n",
       "    <tr style=\"text-align: right;\">\n",
       "      <th></th>\n",
       "      <th>AÑO</th>\n",
       "      <th>MES</th>\n",
       "      <th>CONGLOME</th>\n",
       "      <th>VIVIENDA</th>\n",
       "      <th>HOGAR</th>\n",
       "      <th>CODPERSO</th>\n",
       "      <th>UBIGEO_x</th>\n",
       "      <th>DOMINIO_x</th>\n",
       "      <th>LABOR_QUE_DESEMPEÑA</th>\n",
       "      <th>HORAS_TRABAJO_SEM_ANTERIOR</th>\n",
       "      <th>...</th>\n",
       "      <th>Internet</th>\n",
       "      <th>Servicios higienicos</th>\n",
       "      <th>Niños en colegio</th>\n",
       "      <th>ubigeo_inei</th>\n",
       "      <th>departamento</th>\n",
       "      <th>provincia</th>\n",
       "      <th>distrito</th>\n",
       "      <th>altitud</th>\n",
       "      <th>latitud</th>\n",
       "      <th>longitud</th>\n",
       "    </tr>\n",
       "  </thead>\n",
       "  <tbody>\n",
       "    <tr>\n",
       "      <th>0</th>\n",
       "      <td>2013</td>\n",
       "      <td>5</td>\n",
       "      <td>0001</td>\n",
       "      <td>048</td>\n",
       "      <td>11</td>\n",
       "      <td>01</td>\n",
       "      <td>10101</td>\n",
       "      <td>Sierra Norte</td>\n",
       "      <td>Trabajador Independiente</td>\n",
       "      <td>49</td>\n",
       "      <td>...</td>\n",
       "      <td>No</td>\n",
       "      <td>No</td>\n",
       "      <td>Hogares con niños que asisten a la escuela</td>\n",
       "      <td>10101</td>\n",
       "      <td>AMAZONAS</td>\n",
       "      <td>CHACHAPOYAS</td>\n",
       "      <td>CHACHAPOYAS</td>\n",
       "      <td>2338.0</td>\n",
       "      <td>-6.2294</td>\n",
       "      <td>-77.8728</td>\n",
       "    </tr>\n",
       "  </tbody>\n",
       "</table>\n",
       "<p>1 rows × 34 columns</p>\n",
       "</div>"
      ],
      "text/plain": [
       "    AÑO  MES CONGLOME VIVIENDA HOGAR CODPERSO UBIGEO_x     DOMINIO_x  \\\n",
       "0  2013    5     0001      048    11       01    10101  Sierra Norte   \n",
       "\n",
       "        LABOR_QUE_DESEMPEÑA  HORAS_TRABAJO_SEM_ANTERIOR  ...  Internet  \\\n",
       "0  Trabajador Independiente                          49  ...        No   \n",
       "\n",
       "   Servicios higienicos                            Niños en colegio  \\\n",
       "0                    No  Hogares con niños que asisten a la escuela   \n",
       "\n",
       "   ubigeo_inei departamento    provincia     distrito altitud  latitud  \\\n",
       "0        10101     AMAZONAS  CHACHAPOYAS  CHACHAPOYAS  2338.0  -6.2294   \n",
       "\n",
       "  longitud  \n",
       "0 -77.8728  \n",
       "\n",
       "[1 rows x 34 columns]"
      ]
     },
     "execution_count": 296,
     "metadata": {},
     "output_type": "execute_result"
    }
   ],
   "source": [
    "df = pd.read_pickle('../Datasets/df_finalisimo.pkl')\n",
    "df.head(1)"
   ]
  },
  {
   "cell_type": "code",
   "execution_count": 297,
   "metadata": {},
   "outputs": [
    {
     "data": {
      "text/html": [
       "<div>\n",
       "<style scoped>\n",
       "    .dataframe tbody tr th:only-of-type {\n",
       "        vertical-align: middle;\n",
       "    }\n",
       "\n",
       "    .dataframe tbody tr th {\n",
       "        vertical-align: top;\n",
       "    }\n",
       "\n",
       "    .dataframe thead th {\n",
       "        text-align: right;\n",
       "    }\n",
       "</style>\n",
       "<table border=\"1\" class=\"dataframe\">\n",
       "  <thead>\n",
       "    <tr style=\"text-align: right;\">\n",
       "      <th></th>\n",
       "      <th>AÑO</th>\n",
       "      <th>MES</th>\n",
       "      <th>LABOR_QUE_DESEMPEÑA</th>\n",
       "      <th>HORAS_TRABAJO_SEM_ANTERIOR</th>\n",
       "      <th>TIEMPO_TRABAJO_AÑOS</th>\n",
       "      <th>TIEMPO_TRABAJO_MESES</th>\n",
       "      <th>GANANCIA_NETA</th>\n",
       "      <th>GASTO_EN_PRODUCTOS</th>\n",
       "      <th>SEXO</th>\n",
       "      <th>ESTADO_CIVIL</th>\n",
       "      <th>...</th>\n",
       "      <th>Television</th>\n",
       "      <th>Internet</th>\n",
       "      <th>Servicios higienicos</th>\n",
       "      <th>Niños en colegio</th>\n",
       "      <th>departamento</th>\n",
       "      <th>provincia</th>\n",
       "      <th>distrito</th>\n",
       "      <th>altitud</th>\n",
       "      <th>latitud</th>\n",
       "      <th>longitud</th>\n",
       "    </tr>\n",
       "  </thead>\n",
       "  <tbody>\n",
       "    <tr>\n",
       "      <th>0</th>\n",
       "      <td>2013</td>\n",
       "      <td>5</td>\n",
       "      <td>Trabajador Independiente</td>\n",
       "      <td>49</td>\n",
       "      <td>1</td>\n",
       "      <td>0</td>\n",
       "      <td>27.0</td>\n",
       "      <td>152.0</td>\n",
       "      <td>Mujer</td>\n",
       "      <td>Viudo(a)</td>\n",
       "      <td>...</td>\n",
       "      <td>Sí</td>\n",
       "      <td>No</td>\n",
       "      <td>No</td>\n",
       "      <td>Hogares con niños que asisten a la escuela</td>\n",
       "      <td>AMAZONAS</td>\n",
       "      <td>CHACHAPOYAS</td>\n",
       "      <td>CHACHAPOYAS</td>\n",
       "      <td>2338.0</td>\n",
       "      <td>-6.2294</td>\n",
       "      <td>-77.8728</td>\n",
       "    </tr>\n",
       "    <tr>\n",
       "      <th>1</th>\n",
       "      <td>2013</td>\n",
       "      <td>8</td>\n",
       "      <td>Trabajador Independiente</td>\n",
       "      <td>7</td>\n",
       "      <td>0</td>\n",
       "      <td>0</td>\n",
       "      <td>27.0</td>\n",
       "      <td>36.0</td>\n",
       "      <td>Mujer</td>\n",
       "      <td>Soltero(a)</td>\n",
       "      <td>...</td>\n",
       "      <td>Sí</td>\n",
       "      <td>No</td>\n",
       "      <td>No</td>\n",
       "      <td>Hogares con niños que asisten a la escuela</td>\n",
       "      <td>AMAZONAS</td>\n",
       "      <td>CHACHAPOYAS</td>\n",
       "      <td>CHACHAPOYAS</td>\n",
       "      <td>2338.0</td>\n",
       "      <td>-6.2294</td>\n",
       "      <td>-77.8728</td>\n",
       "    </tr>\n",
       "    <tr>\n",
       "      <th>2</th>\n",
       "      <td>2013</td>\n",
       "      <td>8</td>\n",
       "      <td>Trabajador Independiente</td>\n",
       "      <td>21</td>\n",
       "      <td>4</td>\n",
       "      <td>0</td>\n",
       "      <td>120.0</td>\n",
       "      <td>36.0</td>\n",
       "      <td>Mujer</td>\n",
       "      <td>Conviviente</td>\n",
       "      <td>...</td>\n",
       "      <td>No</td>\n",
       "      <td>No</td>\n",
       "      <td>No</td>\n",
       "      <td>Hogares con niños que asisten a la escuela</td>\n",
       "      <td>AMAZONAS</td>\n",
       "      <td>CHACHAPOYAS</td>\n",
       "      <td>CHACHAPOYAS</td>\n",
       "      <td>2338.0</td>\n",
       "      <td>-6.2294</td>\n",
       "      <td>-77.8728</td>\n",
       "    </tr>\n",
       "    <tr>\n",
       "      <th>3</th>\n",
       "      <td>2013</td>\n",
       "      <td>11</td>\n",
       "      <td>Trabajador Independiente</td>\n",
       "      <td>43</td>\n",
       "      <td>27</td>\n",
       "      <td>0</td>\n",
       "      <td>457.0</td>\n",
       "      <td>208.0</td>\n",
       "      <td>Mujer</td>\n",
       "      <td>Casado(a)</td>\n",
       "      <td>...</td>\n",
       "      <td>Sí</td>\n",
       "      <td>Sí</td>\n",
       "      <td>No</td>\n",
       "      <td>Hogares con niños que asisten a la escuela</td>\n",
       "      <td>AMAZONAS</td>\n",
       "      <td>CHACHAPOYAS</td>\n",
       "      <td>CHACHAPOYAS</td>\n",
       "      <td>2338.0</td>\n",
       "      <td>-6.2294</td>\n",
       "      <td>-77.8728</td>\n",
       "    </tr>\n",
       "    <tr>\n",
       "      <th>4</th>\n",
       "      <td>2013</td>\n",
       "      <td>11</td>\n",
       "      <td>Trabajador Independiente</td>\n",
       "      <td>42</td>\n",
       "      <td>53</td>\n",
       "      <td>0</td>\n",
       "      <td>27.0</td>\n",
       "      <td>39.0</td>\n",
       "      <td>Hombre</td>\n",
       "      <td>Casado(a)</td>\n",
       "      <td>...</td>\n",
       "      <td>No</td>\n",
       "      <td>No</td>\n",
       "      <td>No</td>\n",
       "      <td>Hogares con niños que asisten a la escuela</td>\n",
       "      <td>AMAZONAS</td>\n",
       "      <td>CHACHAPOYAS</td>\n",
       "      <td>CHACHAPOYAS</td>\n",
       "      <td>2338.0</td>\n",
       "      <td>-6.2294</td>\n",
       "      <td>-77.8728</td>\n",
       "    </tr>\n",
       "  </tbody>\n",
       "</table>\n",
       "<p>5 rows × 27 columns</p>\n",
       "</div>"
      ],
      "text/plain": [
       "    AÑO  MES       LABOR_QUE_DESEMPEÑA  HORAS_TRABAJO_SEM_ANTERIOR  \\\n",
       "0  2013    5  Trabajador Independiente                          49   \n",
       "1  2013    8  Trabajador Independiente                           7   \n",
       "2  2013    8  Trabajador Independiente                          21   \n",
       "3  2013   11  Trabajador Independiente                          43   \n",
       "4  2013   11  Trabajador Independiente                          42   \n",
       "\n",
       "   TIEMPO_TRABAJO_AÑOS  TIEMPO_TRABAJO_MESES  GANANCIA_NETA  \\\n",
       "0                    1                     0           27.0   \n",
       "1                    0                     0           27.0   \n",
       "2                    4                     0          120.0   \n",
       "3                   27                     0          457.0   \n",
       "4                   53                     0           27.0   \n",
       "\n",
       "   GASTO_EN_PRODUCTOS    SEXO ESTADO_CIVIL  ... Television Internet  \\\n",
       "0               152.0   Mujer     Viudo(a)  ...         Sí       No   \n",
       "1                36.0   Mujer   Soltero(a)  ...         Sí       No   \n",
       "2                36.0   Mujer  Conviviente  ...         No       No   \n",
       "3               208.0   Mujer    Casado(a)  ...         Sí       Sí   \n",
       "4                39.0  Hombre    Casado(a)  ...         No       No   \n",
       "\n",
       "   Servicios higienicos                            Niños en colegio  \\\n",
       "0                    No  Hogares con niños que asisten a la escuela   \n",
       "1                    No  Hogares con niños que asisten a la escuela   \n",
       "2                    No  Hogares con niños que asisten a la escuela   \n",
       "3                    No  Hogares con niños que asisten a la escuela   \n",
       "4                    No  Hogares con niños que asisten a la escuela   \n",
       "\n",
       "  departamento    provincia     distrito altitud latitud longitud  \n",
       "0     AMAZONAS  CHACHAPOYAS  CHACHAPOYAS  2338.0 -6.2294 -77.8728  \n",
       "1     AMAZONAS  CHACHAPOYAS  CHACHAPOYAS  2338.0 -6.2294 -77.8728  \n",
       "2     AMAZONAS  CHACHAPOYAS  CHACHAPOYAS  2338.0 -6.2294 -77.8728  \n",
       "3     AMAZONAS  CHACHAPOYAS  CHACHAPOYAS  2338.0 -6.2294 -77.8728  \n",
       "4     AMAZONAS  CHACHAPOYAS  CHACHAPOYAS  2338.0 -6.2294 -77.8728  \n",
       "\n",
       "[5 rows x 27 columns]"
      ]
     },
     "execution_count": 297,
     "metadata": {},
     "output_type": "execute_result"
    }
   ],
   "source": [
    "df.drop(columns=['CONGLOME', 'VIVIENDA', 'HOGAR', 'CODPERSO', 'UBIGEO_x','ubigeo_inei','DOMINIO_x'],inplace=True)\n",
    "df.head()"
   ]
  },
  {
   "cell_type": "code",
   "execution_count": 298,
   "metadata": {},
   "outputs": [
    {
     "data": {
      "text/plain": [
       "Index(['AÑO', 'MES', 'LABOR_QUE_DESEMPEÑA', 'HORAS_TRABAJO_SEM_ANTERIOR',\n",
       "       'TIEMPO_TRABAJO_AÑOS', 'TIEMPO_TRABAJO_MESES', 'GANANCIA_NETA',\n",
       "       'GASTO_EN_PRODUCTOS', 'SEXO', 'ESTADO_CIVIL', 'GRADO_DE_INSTRUCCION',\n",
       "       'Tipo de vivienda', 'Numero de habitaciones', 'Estado', 'Agua',\n",
       "       'Telefono', 'Celular', 'Television', 'Internet', 'Servicios higienicos',\n",
       "       'Niños en colegio', 'departamento', 'provincia', 'distrito', 'altitud',\n",
       "       'latitud', 'longitud'],\n",
       "      dtype='object')"
      ]
     },
     "execution_count": 298,
     "metadata": {},
     "output_type": "execute_result"
    }
   ],
   "source": [
    "df.columns"
   ]
  },
  {
   "cell_type": "code",
   "execution_count": 299,
   "metadata": {},
   "outputs": [],
   "source": [
    "# Crear DataFrames únicos para cada dimensión\n",
    "df_tiempo = obtener_unicos_df(df, 'AÑO')\n",
    "df_tiempo = df[['AÑO', 'MES']].drop_duplicates().reset_index(drop=True)"
   ]
  },
  {
   "cell_type": "code",
   "execution_count": 300,
   "metadata": {},
   "outputs": [
    {
     "data": {
      "text/html": [
       "<div>\n",
       "<style scoped>\n",
       "    .dataframe tbody tr th:only-of-type {\n",
       "        vertical-align: middle;\n",
       "    }\n",
       "\n",
       "    .dataframe tbody tr th {\n",
       "        vertical-align: top;\n",
       "    }\n",
       "\n",
       "    .dataframe thead th {\n",
       "        text-align: right;\n",
       "    }\n",
       "</style>\n",
       "<table border=\"1\" class=\"dataframe\">\n",
       "  <thead>\n",
       "    <tr style=\"text-align: right;\">\n",
       "      <th></th>\n",
       "      <th>AÑO</th>\n",
       "      <th>MES</th>\n",
       "    </tr>\n",
       "  </thead>\n",
       "  <tbody>\n",
       "    <tr>\n",
       "      <th>0</th>\n",
       "      <td>2013</td>\n",
       "      <td>5</td>\n",
       "    </tr>\n",
       "    <tr>\n",
       "      <th>1</th>\n",
       "      <td>2013</td>\n",
       "      <td>8</td>\n",
       "    </tr>\n",
       "    <tr>\n",
       "      <th>2</th>\n",
       "      <td>2013</td>\n",
       "      <td>11</td>\n",
       "    </tr>\n",
       "    <tr>\n",
       "      <th>3</th>\n",
       "      <td>2013</td>\n",
       "      <td>2</td>\n",
       "    </tr>\n",
       "    <tr>\n",
       "      <th>4</th>\n",
       "      <td>2013</td>\n",
       "      <td>3</td>\n",
       "    </tr>\n",
       "    <tr>\n",
       "      <th>5</th>\n",
       "      <td>2013</td>\n",
       "      <td>4</td>\n",
       "    </tr>\n",
       "    <tr>\n",
       "      <th>6</th>\n",
       "      <td>2013</td>\n",
       "      <td>6</td>\n",
       "    </tr>\n",
       "    <tr>\n",
       "      <th>7</th>\n",
       "      <td>2013</td>\n",
       "      <td>10</td>\n",
       "    </tr>\n",
       "    <tr>\n",
       "      <th>8</th>\n",
       "      <td>2013</td>\n",
       "      <td>9</td>\n",
       "    </tr>\n",
       "    <tr>\n",
       "      <th>9</th>\n",
       "      <td>2013</td>\n",
       "      <td>12</td>\n",
       "    </tr>\n",
       "    <tr>\n",
       "      <th>10</th>\n",
       "      <td>2013</td>\n",
       "      <td>1</td>\n",
       "    </tr>\n",
       "    <tr>\n",
       "      <th>11</th>\n",
       "      <td>2013</td>\n",
       "      <td>7</td>\n",
       "    </tr>\n",
       "    <tr>\n",
       "      <th>12</th>\n",
       "      <td>2014</td>\n",
       "      <td>8</td>\n",
       "    </tr>\n",
       "    <tr>\n",
       "      <th>13</th>\n",
       "      <td>2014</td>\n",
       "      <td>11</td>\n",
       "    </tr>\n",
       "    <tr>\n",
       "      <th>14</th>\n",
       "      <td>2014</td>\n",
       "      <td>3</td>\n",
       "    </tr>\n",
       "    <tr>\n",
       "      <th>15</th>\n",
       "      <td>2014</td>\n",
       "      <td>6</td>\n",
       "    </tr>\n",
       "    <tr>\n",
       "      <th>16</th>\n",
       "      <td>2014</td>\n",
       "      <td>10</td>\n",
       "    </tr>\n",
       "    <tr>\n",
       "      <th>17</th>\n",
       "      <td>2014</td>\n",
       "      <td>12</td>\n",
       "    </tr>\n",
       "    <tr>\n",
       "      <th>18</th>\n",
       "      <td>2014</td>\n",
       "      <td>2</td>\n",
       "    </tr>\n",
       "    <tr>\n",
       "      <th>19</th>\n",
       "      <td>2014</td>\n",
       "      <td>7</td>\n",
       "    </tr>\n",
       "  </tbody>\n",
       "</table>\n",
       "</div>"
      ],
      "text/plain": [
       "     AÑO  MES\n",
       "0   2013    5\n",
       "1   2013    8\n",
       "2   2013   11\n",
       "3   2013    2\n",
       "4   2013    3\n",
       "5   2013    4\n",
       "6   2013    6\n",
       "7   2013   10\n",
       "8   2013    9\n",
       "9   2013   12\n",
       "10  2013    1\n",
       "11  2013    7\n",
       "12  2014    8\n",
       "13  2014   11\n",
       "14  2014    3\n",
       "15  2014    6\n",
       "16  2014   10\n",
       "17  2014   12\n",
       "18  2014    2\n",
       "19  2014    7"
      ]
     },
     "execution_count": 300,
     "metadata": {},
     "output_type": "execute_result"
    }
   ],
   "source": [
    "df_tiempo.head(20)"
   ]
  },
  {
   "cell_type": "code",
   "execution_count": 301,
   "metadata": {},
   "outputs": [],
   "source": [
    "df_sexo = obtener_unicos_df(df, 'SEXO')\n",
    "df_estado_civil = obtener_unicos_df(df, 'ESTADO_CIVIL')\n",
    "df_educacion = obtener_unicos_df(df, 'GRADO_DE_INSTRUCCION')\n",
    "df_trabajo = obtener_unicos_df(df, 'LABOR_QUE_DESEMPEÑA')\n",
    "df_tipo_vivienda = obtener_unicos_df(df, 'Tipo de vivienda')\n",
    "df_estado_vivienda = obtener_unicos_df(df, 'Estado')\n",
    "df_agua = obtener_unicos_df(df, 'Agua')\n",
    "df_telefono = obtener_unicos_df(df, 'Telefono')\n",
    "df_celular = obtener_unicos_df(df, 'Celular')\n",
    "df_television = obtener_unicos_df(df, 'Television')\n",
    "df_internet = obtener_unicos_df(df, 'Internet')\n",
    "df_servicios_higienicos = obtener_unicos_df(df, 'Servicios higienicos')\n",
    "df_educacion_ninos = obtener_unicos_df(df, 'Niños en colegio')\n",
    "df_departamento = obtener_unicos_df(df, 'departamento')\n",
    "df_provincia = obtener_unicos_df(df, 'provincia')\n",
    "df_distrito = obtener_unicos_df(df, 'distrito')"
   ]
  },
  {
   "cell_type": "code",
   "execution_count": 302,
   "metadata": {},
   "outputs": [
    {
     "data": {
      "text/html": [
       "<div>\n",
       "<style scoped>\n",
       "    .dataframe tbody tr th:only-of-type {\n",
       "        vertical-align: middle;\n",
       "    }\n",
       "\n",
       "    .dataframe tbody tr th {\n",
       "        vertical-align: top;\n",
       "    }\n",
       "\n",
       "    .dataframe thead th {\n",
       "        text-align: right;\n",
       "    }\n",
       "</style>\n",
       "<table border=\"1\" class=\"dataframe\">\n",
       "  <thead>\n",
       "    <tr style=\"text-align: right;\">\n",
       "      <th></th>\n",
       "      <th>SEXO</th>\n",
       "    </tr>\n",
       "  </thead>\n",
       "  <tbody>\n",
       "    <tr>\n",
       "      <th>0</th>\n",
       "      <td>Mujer</td>\n",
       "    </tr>\n",
       "    <tr>\n",
       "      <th>1</th>\n",
       "      <td>Hombre</td>\n",
       "    </tr>\n",
       "  </tbody>\n",
       "</table>\n",
       "</div>"
      ],
      "text/plain": [
       "     SEXO\n",
       "0   Mujer\n",
       "1  Hombre"
      ]
     },
     "execution_count": 302,
     "metadata": {},
     "output_type": "execute_result"
    }
   ],
   "source": [
    "df_sexo"
   ]
  },
  {
   "cell_type": "code",
   "execution_count": 303,
   "metadata": {},
   "outputs": [
    {
     "data": {
      "text/html": [
       "<div>\n",
       "<style scoped>\n",
       "    .dataframe tbody tr th:only-of-type {\n",
       "        vertical-align: middle;\n",
       "    }\n",
       "\n",
       "    .dataframe tbody tr th {\n",
       "        vertical-align: top;\n",
       "    }\n",
       "\n",
       "    .dataframe thead th {\n",
       "        text-align: right;\n",
       "    }\n",
       "</style>\n",
       "<table border=\"1\" class=\"dataframe\">\n",
       "  <thead>\n",
       "    <tr style=\"text-align: right;\">\n",
       "      <th></th>\n",
       "      <th>ESTADO_CIVIL</th>\n",
       "    </tr>\n",
       "  </thead>\n",
       "  <tbody>\n",
       "    <tr>\n",
       "      <th>0</th>\n",
       "      <td>Viudo(a)</td>\n",
       "    </tr>\n",
       "    <tr>\n",
       "      <th>1</th>\n",
       "      <td>Soltero(a)</td>\n",
       "    </tr>\n",
       "    <tr>\n",
       "      <th>2</th>\n",
       "      <td>Conviviente</td>\n",
       "    </tr>\n",
       "    <tr>\n",
       "      <th>3</th>\n",
       "      <td>Casado(a)</td>\n",
       "    </tr>\n",
       "    <tr>\n",
       "      <th>4</th>\n",
       "      <td>Separado(a)</td>\n",
       "    </tr>\n",
       "    <tr>\n",
       "      <th>5</th>\n",
       "      <td>Divorciado(a)</td>\n",
       "    </tr>\n",
       "  </tbody>\n",
       "</table>\n",
       "</div>"
      ],
      "text/plain": [
       "    ESTADO_CIVIL\n",
       "0       Viudo(a)\n",
       "1     Soltero(a)\n",
       "2    Conviviente\n",
       "3      Casado(a)\n",
       "4    Separado(a)\n",
       "5  Divorciado(a)"
      ]
     },
     "execution_count": 303,
     "metadata": {},
     "output_type": "execute_result"
    }
   ],
   "source": [
    "df_estado_civil"
   ]
  },
  {
   "cell_type": "code",
   "execution_count": 304,
   "metadata": {},
   "outputs": [
    {
     "data": {
      "text/html": [
       "<div>\n",
       "<style scoped>\n",
       "    .dataframe tbody tr th:only-of-type {\n",
       "        vertical-align: middle;\n",
       "    }\n",
       "\n",
       "    .dataframe tbody tr th {\n",
       "        vertical-align: top;\n",
       "    }\n",
       "\n",
       "    .dataframe thead th {\n",
       "        text-align: right;\n",
       "    }\n",
       "</style>\n",
       "<table border=\"1\" class=\"dataframe\">\n",
       "  <thead>\n",
       "    <tr style=\"text-align: right;\">\n",
       "      <th></th>\n",
       "      <th>GRADO_DE_INSTRUCCION</th>\n",
       "    </tr>\n",
       "  </thead>\n",
       "  <tbody>\n",
       "    <tr>\n",
       "      <th>0</th>\n",
       "      <td>Primaria Incompleta</td>\n",
       "    </tr>\n",
       "    <tr>\n",
       "      <th>1</th>\n",
       "      <td>Superior Universitaria Incompleta</td>\n",
       "    </tr>\n",
       "    <tr>\n",
       "      <th>2</th>\n",
       "      <td>Secundaria Completa</td>\n",
       "    </tr>\n",
       "    <tr>\n",
       "      <th>3</th>\n",
       "      <td>Sin Nivel</td>\n",
       "    </tr>\n",
       "    <tr>\n",
       "      <th>4</th>\n",
       "      <td>Secundaria Incompleta</td>\n",
       "    </tr>\n",
       "    <tr>\n",
       "      <th>5</th>\n",
       "      <td>Primaria Completa</td>\n",
       "    </tr>\n",
       "    <tr>\n",
       "      <th>6</th>\n",
       "      <td>Superior No Universitaria Incompleta</td>\n",
       "    </tr>\n",
       "    <tr>\n",
       "      <th>7</th>\n",
       "      <td>Superior No Universitaria Completa</td>\n",
       "    </tr>\n",
       "    <tr>\n",
       "      <th>8</th>\n",
       "      <td>Superior Universitaria Completa</td>\n",
       "    </tr>\n",
       "    <tr>\n",
       "      <th>9</th>\n",
       "      <td>Maestria/Doctorado</td>\n",
       "    </tr>\n",
       "    <tr>\n",
       "      <th>10</th>\n",
       "      <td>Inicial</td>\n",
       "    </tr>\n",
       "    <tr>\n",
       "      <th>11</th>\n",
       "      <td>Básica especial</td>\n",
       "    </tr>\n",
       "  </tbody>\n",
       "</table>\n",
       "</div>"
      ],
      "text/plain": [
       "                    GRADO_DE_INSTRUCCION\n",
       "0                    Primaria Incompleta\n",
       "1      Superior Universitaria Incompleta\n",
       "2                    Secundaria Completa\n",
       "3                              Sin Nivel\n",
       "4                  Secundaria Incompleta\n",
       "5                      Primaria Completa\n",
       "6   Superior No Universitaria Incompleta\n",
       "7     Superior No Universitaria Completa\n",
       "8        Superior Universitaria Completa\n",
       "9                     Maestria/Doctorado\n",
       "10                               Inicial\n",
       "11                       Básica especial"
      ]
     },
     "execution_count": 304,
     "metadata": {},
     "output_type": "execute_result"
    }
   ],
   "source": [
    "df_educacion"
   ]
  },
  {
   "cell_type": "code",
   "execution_count": 305,
   "metadata": {},
   "outputs": [
    {
     "data": {
      "text/html": [
       "<div>\n",
       "<style scoped>\n",
       "    .dataframe tbody tr th:only-of-type {\n",
       "        vertical-align: middle;\n",
       "    }\n",
       "\n",
       "    .dataframe tbody tr th {\n",
       "        vertical-align: top;\n",
       "    }\n",
       "\n",
       "    .dataframe thead th {\n",
       "        text-align: right;\n",
       "    }\n",
       "</style>\n",
       "<table border=\"1\" class=\"dataframe\">\n",
       "  <thead>\n",
       "    <tr style=\"text-align: right;\">\n",
       "      <th></th>\n",
       "      <th>LABOR_QUE_DESEMPEÑA</th>\n",
       "    </tr>\n",
       "  </thead>\n",
       "  <tbody>\n",
       "    <tr>\n",
       "      <th>0</th>\n",
       "      <td>Trabajador Independiente</td>\n",
       "    </tr>\n",
       "    <tr>\n",
       "      <th>1</th>\n",
       "      <td>Empleador o patrono</td>\n",
       "    </tr>\n",
       "  </tbody>\n",
       "</table>\n",
       "</div>"
      ],
      "text/plain": [
       "        LABOR_QUE_DESEMPEÑA\n",
       "0  Trabajador Independiente\n",
       "1       Empleador o patrono"
      ]
     },
     "execution_count": 305,
     "metadata": {},
     "output_type": "execute_result"
    }
   ],
   "source": [
    "df_trabajo"
   ]
  },
  {
   "cell_type": "code",
   "execution_count": 306,
   "metadata": {},
   "outputs": [
    {
     "data": {
      "text/html": [
       "<div>\n",
       "<style scoped>\n",
       "    .dataframe tbody tr th:only-of-type {\n",
       "        vertical-align: middle;\n",
       "    }\n",
       "\n",
       "    .dataframe tbody tr th {\n",
       "        vertical-align: top;\n",
       "    }\n",
       "\n",
       "    .dataframe thead th {\n",
       "        text-align: right;\n",
       "    }\n",
       "</style>\n",
       "<table border=\"1\" class=\"dataframe\">\n",
       "  <thead>\n",
       "    <tr style=\"text-align: right;\">\n",
       "      <th></th>\n",
       "      <th>Tipo de vivienda</th>\n",
       "    </tr>\n",
       "  </thead>\n",
       "  <tbody>\n",
       "    <tr>\n",
       "      <th>0</th>\n",
       "      <td>Casa independiente</td>\n",
       "    </tr>\n",
       "    <tr>\n",
       "      <th>1</th>\n",
       "      <td>Vivienda en casa de vecindad</td>\n",
       "    </tr>\n",
       "    <tr>\n",
       "      <th>2</th>\n",
       "      <td>Choza o cabaña</td>\n",
       "    </tr>\n",
       "    <tr>\n",
       "      <th>3</th>\n",
       "      <td>Vivienda en quinta</td>\n",
       "    </tr>\n",
       "    <tr>\n",
       "      <th>4</th>\n",
       "      <td>Departamento en edificio</td>\n",
       "    </tr>\n",
       "    <tr>\n",
       "      <th>5</th>\n",
       "      <td>Vivienda improvisada</td>\n",
       "    </tr>\n",
       "    <tr>\n",
       "      <th>6</th>\n",
       "      <td>Local no destinado para habitación humana</td>\n",
       "    </tr>\n",
       "    <tr>\n",
       "      <th>7</th>\n",
       "      <td>Otro</td>\n",
       "    </tr>\n",
       "  </tbody>\n",
       "</table>\n",
       "</div>"
      ],
      "text/plain": [
       "                            Tipo de vivienda\n",
       "0                         Casa independiente\n",
       "1               Vivienda en casa de vecindad\n",
       "2                             Choza o cabaña\n",
       "3                         Vivienda en quinta\n",
       "4                   Departamento en edificio\n",
       "5                       Vivienda improvisada\n",
       "6  Local no destinado para habitación humana\n",
       "7                                       Otro"
      ]
     },
     "execution_count": 306,
     "metadata": {},
     "output_type": "execute_result"
    }
   ],
   "source": [
    "df_tipo_vivienda"
   ]
  },
  {
   "cell_type": "code",
   "execution_count": 307,
   "metadata": {},
   "outputs": [
    {
     "data": {
      "text/html": [
       "<div>\n",
       "<style scoped>\n",
       "    .dataframe tbody tr th:only-of-type {\n",
       "        vertical-align: middle;\n",
       "    }\n",
       "\n",
       "    .dataframe tbody tr th {\n",
       "        vertical-align: top;\n",
       "    }\n",
       "\n",
       "    .dataframe thead th {\n",
       "        text-align: right;\n",
       "    }\n",
       "</style>\n",
       "<table border=\"1\" class=\"dataframe\">\n",
       "  <thead>\n",
       "    <tr style=\"text-align: right;\">\n",
       "      <th></th>\n",
       "      <th>Estado</th>\n",
       "    </tr>\n",
       "  </thead>\n",
       "  <tbody>\n",
       "    <tr>\n",
       "      <th>0</th>\n",
       "      <td>Propia, totalmente pagada</td>\n",
       "    </tr>\n",
       "    <tr>\n",
       "      <th>1</th>\n",
       "      <td>Cedida por otro hogar o institución</td>\n",
       "    </tr>\n",
       "    <tr>\n",
       "      <th>2</th>\n",
       "      <td>Alquilada</td>\n",
       "    </tr>\n",
       "    <tr>\n",
       "      <th>3</th>\n",
       "      <td>Propia, por invasión</td>\n",
       "    </tr>\n",
       "    <tr>\n",
       "      <th>4</th>\n",
       "      <td>Cedida por el centro de trabajo</td>\n",
       "    </tr>\n",
       "    <tr>\n",
       "      <th>5</th>\n",
       "      <td>Propia, comprándola a plazos</td>\n",
       "    </tr>\n",
       "    <tr>\n",
       "      <th>6</th>\n",
       "      <td>Otra forma</td>\n",
       "    </tr>\n",
       "  </tbody>\n",
       "</table>\n",
       "</div>"
      ],
      "text/plain": [
       "                                Estado\n",
       "0            Propia, totalmente pagada\n",
       "1  Cedida por otro hogar o institución\n",
       "2                            Alquilada\n",
       "3                 Propia, por invasión\n",
       "4      Cedida por el centro de trabajo\n",
       "5         Propia, comprándola a plazos\n",
       "6                           Otra forma"
      ]
     },
     "execution_count": 307,
     "metadata": {},
     "output_type": "execute_result"
    }
   ],
   "source": [
    "df_estado_vivienda"
   ]
  },
  {
   "cell_type": "code",
   "execution_count": 308,
   "metadata": {},
   "outputs": [],
   "source": [
    "# Generar identificadores únicos para cada DataFrame de dimensión\n",
    "df_tiempo['idTiempo'] = range(1, len(df_tiempo) + 1)\n",
    "df_sexo['idSexo'] = range(1, len(df_sexo) + 1)\n",
    "df_estado_civil['idEstadoCivil'] = range(1, len(df_estado_civil) + 1)\n",
    "df_educacion['idEducacion'] = range(1, len(df_educacion) + 1)\n",
    "df_trabajo['idTrabajo'] = range(1, len(df_trabajo) + 1)\n",
    "df_tipo_vivienda['idTipoVivienda'] = range(1, len(df_tipo_vivienda) + 1)\n",
    "df_estado_vivienda['idEstadoVivienda'] = range(1, len(df_estado_vivienda) + 1)\n",
    "df_agua['idAgua'] = range(1, len(df_agua) + 1)\n",
    "df_telefono['idTelefono'] = range(1, len(df_telefono) + 1)\n",
    "df_celular['idCelular'] = range(1, len(df_celular) + 1)\n",
    "df_television['idTelevision'] = range(1, len(df_television) + 1)\n",
    "df_internet['idInternet'] = range(1, len(df_internet) + 1)\n",
    "df_servicios_higienicos['idServiciosHigienicos'] = range(1, len(df_servicios_higienicos) + 1)\n",
    "df_educacion_ninos['idEducacionNinos'] = range(1, len(df_educacion_ninos) + 1)\n",
    "df_departamento['idDepartamento'] = range(1, len(df_departamento) + 1)\n",
    "df_provincia['idProvincia'] = range(1, len(df_provincia) + 1)\n",
    "df_distrito['idDistrito'] = range(1, len(df_distrito) + 1)"
   ]
  },
  {
   "cell_type": "code",
   "execution_count": 309,
   "metadata": {},
   "outputs": [
    {
     "data": {
      "text/html": [
       "<div>\n",
       "<style scoped>\n",
       "    .dataframe tbody tr th:only-of-type {\n",
       "        vertical-align: middle;\n",
       "    }\n",
       "\n",
       "    .dataframe tbody tr th {\n",
       "        vertical-align: top;\n",
       "    }\n",
       "\n",
       "    .dataframe thead th {\n",
       "        text-align: right;\n",
       "    }\n",
       "</style>\n",
       "<table border=\"1\" class=\"dataframe\">\n",
       "  <thead>\n",
       "    <tr style=\"text-align: right;\">\n",
       "      <th></th>\n",
       "      <th>AÑO</th>\n",
       "      <th>MES</th>\n",
       "      <th>idTiempo</th>\n",
       "    </tr>\n",
       "  </thead>\n",
       "  <tbody>\n",
       "    <tr>\n",
       "      <th>0</th>\n",
       "      <td>2013</td>\n",
       "      <td>5</td>\n",
       "      <td>1</td>\n",
       "    </tr>\n",
       "    <tr>\n",
       "      <th>1</th>\n",
       "      <td>2013</td>\n",
       "      <td>8</td>\n",
       "      <td>2</td>\n",
       "    </tr>\n",
       "    <tr>\n",
       "      <th>2</th>\n",
       "      <td>2013</td>\n",
       "      <td>11</td>\n",
       "      <td>3</td>\n",
       "    </tr>\n",
       "    <tr>\n",
       "      <th>3</th>\n",
       "      <td>2013</td>\n",
       "      <td>2</td>\n",
       "      <td>4</td>\n",
       "    </tr>\n",
       "    <tr>\n",
       "      <th>4</th>\n",
       "      <td>2013</td>\n",
       "      <td>3</td>\n",
       "      <td>5</td>\n",
       "    </tr>\n",
       "  </tbody>\n",
       "</table>\n",
       "</div>"
      ],
      "text/plain": [
       "    AÑO  MES  idTiempo\n",
       "0  2013    5         1\n",
       "1  2013    8         2\n",
       "2  2013   11         3\n",
       "3  2013    2         4\n",
       "4  2013    3         5"
      ]
     },
     "execution_count": 309,
     "metadata": {},
     "output_type": "execute_result"
    }
   ],
   "source": [
    "df_tiempo.head()"
   ]
  },
  {
   "cell_type": "code",
   "execution_count": 310,
   "metadata": {},
   "outputs": [
    {
     "data": {
      "text/html": [
       "<div>\n",
       "<style scoped>\n",
       "    .dataframe tbody tr th:only-of-type {\n",
       "        vertical-align: middle;\n",
       "    }\n",
       "\n",
       "    .dataframe tbody tr th {\n",
       "        vertical-align: top;\n",
       "    }\n",
       "\n",
       "    .dataframe thead th {\n",
       "        text-align: right;\n",
       "    }\n",
       "</style>\n",
       "<table border=\"1\" class=\"dataframe\">\n",
       "  <thead>\n",
       "    <tr style=\"text-align: right;\">\n",
       "      <th></th>\n",
       "      <th>distrito</th>\n",
       "      <th>idDistrito</th>\n",
       "    </tr>\n",
       "  </thead>\n",
       "  <tbody>\n",
       "    <tr>\n",
       "      <th>0</th>\n",
       "      <td>CHACHAPOYAS</td>\n",
       "      <td>1</td>\n",
       "    </tr>\n",
       "    <tr>\n",
       "      <th>1</th>\n",
       "      <td>CUISPES</td>\n",
       "      <td>2</td>\n",
       "    </tr>\n",
       "    <tr>\n",
       "      <th>2</th>\n",
       "      <td>CONILA</td>\n",
       "      <td>3</td>\n",
       "    </tr>\n",
       "    <tr>\n",
       "      <th>3</th>\n",
       "      <td>COLCAMAR</td>\n",
       "      <td>4</td>\n",
       "    </tr>\n",
       "    <tr>\n",
       "      <th>4</th>\n",
       "      <td>LA JALCA</td>\n",
       "      <td>5</td>\n",
       "    </tr>\n",
       "  </tbody>\n",
       "</table>\n",
       "</div>"
      ],
      "text/plain": [
       "      distrito  idDistrito\n",
       "0  CHACHAPOYAS           1\n",
       "1      CUISPES           2\n",
       "2       CONILA           3\n",
       "3     COLCAMAR           4\n",
       "4     LA JALCA           5"
      ]
     },
     "execution_count": 310,
     "metadata": {},
     "output_type": "execute_result"
    }
   ],
   "source": [
    "df_distrito.head()"
   ]
  },
  {
   "cell_type": "code",
   "execution_count": 311,
   "metadata": {},
   "outputs": [],
   "source": [
    "# Columnas y tipos de datos en el esquema de la fact table\n",
    "data = {\n",
    "    \"idTiempo\": pd.Series(dtype=\"int\"),\n",
    "    \"id_departamento\": pd.Series(dtype=\"int\"),\n",
    "    \"id_provincia\": pd.Series(dtype=\"int\"),\n",
    "    \"id_distrito\": pd.Series(dtype=\"int\"),\n",
    "    \"idSexo\": pd.Series(dtype=\"int\"),\n",
    "    \"idEstadoCivil\": pd.Series(dtype=\"int\"),\n",
    "    \"idEducacion\": pd.Series(dtype=\"int\"),\n",
    "    \"idTrabajo\": pd.Series(dtype=\"int\"),\n",
    "    \"idTipoVivienda\": pd.Series(dtype=\"int\"),\n",
    "    \"idAgua\": pd.Series(dtype=\"int\"),\n",
    "    \"idTelefono\": pd.Series(dtype=\"int\"),\n",
    "    \"idCelular\": pd.Series(dtype=\"int\"),\n",
    "    \"idTelevision\": pd.Series(dtype=\"int\"),\n",
    "    \"idInternet\": pd.Series(dtype=\"int\"),\n",
    "    \"idServiciosHigienicos\": pd.Series(dtype=\"int\"),\n",
    "    \"idEducacionNiños\": pd.Series(dtype=\"int\"),\n",
    "    \"idEstadoVivienda\": pd.Series(dtype=\"int\"),\n",
    "    \"gananciaNeta\": pd.Series(dtype=\"float\"),\n",
    "    \"gastoEnProductos\": pd.Series(dtype=\"float\"),\n",
    "    \"horasTrabajoSemAnterior\": pd.Series(dtype=\"int\"),\n",
    "    \"tiempoTrabajoAños\": pd.Series(dtype=\"int\"),\n",
    "    \"tiempoTrabajoMeses\": pd.Series(dtype=\"int\"),\n",
    "    \"numeroHabitaciones\": pd.Series(dtype=\"int\"),\n",
    "    \"altitud\": pd.Series(dtype=\"float\"),\n",
    "    \"latitud\": pd.Series(dtype=\"float\"),\n",
    "    \"longitud\": pd.Series(dtype=\"float\")\n",
    "}\n",
    "\n",
    "# Creando el DataFrame vacío basado en el esquema\n",
    "df_factBalanceEconomico = pd.DataFrame(data)"
   ]
  },
  {
   "cell_type": "code",
   "execution_count": 312,
   "metadata": {},
   "outputs": [
    {
     "data": {
      "text/html": [
       "<div>\n",
       "<style scoped>\n",
       "    .dataframe tbody tr th:only-of-type {\n",
       "        vertical-align: middle;\n",
       "    }\n",
       "\n",
       "    .dataframe tbody tr th {\n",
       "        vertical-align: top;\n",
       "    }\n",
       "\n",
       "    .dataframe thead th {\n",
       "        text-align: right;\n",
       "    }\n",
       "</style>\n",
       "<table border=\"1\" class=\"dataframe\">\n",
       "  <thead>\n",
       "    <tr style=\"text-align: right;\">\n",
       "      <th></th>\n",
       "      <th>idTiempo</th>\n",
       "      <th>id_departamento</th>\n",
       "      <th>id_provincia</th>\n",
       "      <th>id_distrito</th>\n",
       "      <th>idSexo</th>\n",
       "      <th>idEstadoCivil</th>\n",
       "      <th>idEducacion</th>\n",
       "      <th>idTrabajo</th>\n",
       "      <th>idTipoVivienda</th>\n",
       "      <th>idAgua</th>\n",
       "      <th>...</th>\n",
       "      <th>idEstadoVivienda</th>\n",
       "      <th>gananciaNeta</th>\n",
       "      <th>gastoEnProductos</th>\n",
       "      <th>horasTrabajoSemAnterior</th>\n",
       "      <th>tiempoTrabajoAños</th>\n",
       "      <th>tiempoTrabajoMeses</th>\n",
       "      <th>numeroHabitaciones</th>\n",
       "      <th>altitud</th>\n",
       "      <th>latitud</th>\n",
       "      <th>longitud</th>\n",
       "    </tr>\n",
       "  </thead>\n",
       "  <tbody>\n",
       "  </tbody>\n",
       "</table>\n",
       "<p>0 rows × 26 columns</p>\n",
       "</div>"
      ],
      "text/plain": [
       "Empty DataFrame\n",
       "Columns: [idTiempo, id_departamento, id_provincia, id_distrito, idSexo, idEstadoCivil, idEducacion, idTrabajo, idTipoVivienda, idAgua, idTelefono, idCelular, idTelevision, idInternet, idServiciosHigienicos, idEducacionNiños, idEstadoVivienda, gananciaNeta, gastoEnProductos, horasTrabajoSemAnterior, tiempoTrabajoAños, tiempoTrabajoMeses, numeroHabitaciones, altitud, latitud, longitud]\n",
       "Index: []\n",
       "\n",
       "[0 rows x 26 columns]"
      ]
     },
     "execution_count": 312,
     "metadata": {},
     "output_type": "execute_result"
    }
   ],
   "source": [
    "df_factBalanceEconomico"
   ]
  },
  {
   "cell_type": "code",
   "execution_count": 313,
   "metadata": {},
   "outputs": [
    {
     "data": {
      "text/html": [
       "<div>\n",
       "<style scoped>\n",
       "    .dataframe tbody tr th:only-of-type {\n",
       "        vertical-align: middle;\n",
       "    }\n",
       "\n",
       "    .dataframe tbody tr th {\n",
       "        vertical-align: top;\n",
       "    }\n",
       "\n",
       "    .dataframe thead th {\n",
       "        text-align: right;\n",
       "    }\n",
       "</style>\n",
       "<table border=\"1\" class=\"dataframe\">\n",
       "  <thead>\n",
       "    <tr style=\"text-align: right;\">\n",
       "      <th></th>\n",
       "      <th>distrito</th>\n",
       "      <th>idDistrito</th>\n",
       "    </tr>\n",
       "  </thead>\n",
       "  <tbody>\n",
       "    <tr>\n",
       "      <th>0</th>\n",
       "      <td>CHACHAPOYAS</td>\n",
       "      <td>1</td>\n",
       "    </tr>\n",
       "    <tr>\n",
       "      <th>1</th>\n",
       "      <td>CUISPES</td>\n",
       "      <td>2</td>\n",
       "    </tr>\n",
       "    <tr>\n",
       "      <th>2</th>\n",
       "      <td>CONILA</td>\n",
       "      <td>3</td>\n",
       "    </tr>\n",
       "    <tr>\n",
       "      <th>3</th>\n",
       "      <td>COLCAMAR</td>\n",
       "      <td>4</td>\n",
       "    </tr>\n",
       "    <tr>\n",
       "      <th>4</th>\n",
       "      <td>LA JALCA</td>\n",
       "      <td>5</td>\n",
       "    </tr>\n",
       "  </tbody>\n",
       "</table>\n",
       "</div>"
      ],
      "text/plain": [
       "      distrito  idDistrito\n",
       "0  CHACHAPOYAS           1\n",
       "1      CUISPES           2\n",
       "2       CONILA           3\n",
       "3     COLCAMAR           4\n",
       "4     LA JALCA           5"
      ]
     },
     "execution_count": 313,
     "metadata": {},
     "output_type": "execute_result"
    }
   ],
   "source": [
    "df_distrito.head()"
   ]
  },
  {
   "cell_type": "code",
   "execution_count": 314,
   "metadata": {},
   "outputs": [],
   "source": [
    "try:\n",
    "    for index, row in df_distrito.iterrows():\n",
    "        cursor.execute(\"INSERT INTO dimDistrito (id_distrito, nombre_distrito) VALUES (?, ?)\", row['idDistrito'], row['distrito'])\n",
    "    conn.commit()  \n",
    "except pyodbc.Error as e:\n",
    "    print(\"Error al insertar registros en dimDistrito:\", e)\n",
    "    conn.rollback() "
   ]
  },
  {
   "cell_type": "code",
   "execution_count": 315,
   "metadata": {},
   "outputs": [
    {
     "data": {
      "text/html": [
       "<div>\n",
       "<style scoped>\n",
       "    .dataframe tbody tr th:only-of-type {\n",
       "        vertical-align: middle;\n",
       "    }\n",
       "\n",
       "    .dataframe tbody tr th {\n",
       "        vertical-align: top;\n",
       "    }\n",
       "\n",
       "    .dataframe thead th {\n",
       "        text-align: right;\n",
       "    }\n",
       "</style>\n",
       "<table border=\"1\" class=\"dataframe\">\n",
       "  <thead>\n",
       "    <tr style=\"text-align: right;\">\n",
       "      <th></th>\n",
       "      <th>provincia</th>\n",
       "      <th>idProvincia</th>\n",
       "    </tr>\n",
       "  </thead>\n",
       "  <tbody>\n",
       "    <tr>\n",
       "      <th>0</th>\n",
       "      <td>CHACHAPOYAS</td>\n",
       "      <td>1</td>\n",
       "    </tr>\n",
       "  </tbody>\n",
       "</table>\n",
       "</div>"
      ],
      "text/plain": [
       "     provincia  idProvincia\n",
       "0  CHACHAPOYAS            1"
      ]
     },
     "execution_count": 315,
     "metadata": {},
     "output_type": "execute_result"
    }
   ],
   "source": [
    "df_provincia.head(1)"
   ]
  },
  {
   "cell_type": "code",
   "execution_count": 316,
   "metadata": {},
   "outputs": [],
   "source": [
    "try:\n",
    "    for index, row in df_provincia.iterrows():\n",
    "        cursor.execute(\"INSERT INTO dimProvincia (id_provincia, nombre_provincia) VALUES (?, ?)\", row['idProvincia'], row['provincia'])\n",
    "    conn.commit()  \n",
    "except ValueError:\n",
    "    print(\"Error al insertar registros en dimProvincia\")"
   ]
  },
  {
   "cell_type": "code",
   "execution_count": 317,
   "metadata": {},
   "outputs": [
    {
     "data": {
      "text/html": [
       "<div>\n",
       "<style scoped>\n",
       "    .dataframe tbody tr th:only-of-type {\n",
       "        vertical-align: middle;\n",
       "    }\n",
       "\n",
       "    .dataframe tbody tr th {\n",
       "        vertical-align: top;\n",
       "    }\n",
       "\n",
       "    .dataframe thead th {\n",
       "        text-align: right;\n",
       "    }\n",
       "</style>\n",
       "<table border=\"1\" class=\"dataframe\">\n",
       "  <thead>\n",
       "    <tr style=\"text-align: right;\">\n",
       "      <th></th>\n",
       "      <th>departamento</th>\n",
       "      <th>idDepartamento</th>\n",
       "    </tr>\n",
       "  </thead>\n",
       "  <tbody>\n",
       "    <tr>\n",
       "      <th>0</th>\n",
       "      <td>AMAZONAS</td>\n",
       "      <td>1</td>\n",
       "    </tr>\n",
       "  </tbody>\n",
       "</table>\n",
       "</div>"
      ],
      "text/plain": [
       "  departamento  idDepartamento\n",
       "0     AMAZONAS               1"
      ]
     },
     "execution_count": 317,
     "metadata": {},
     "output_type": "execute_result"
    }
   ],
   "source": [
    "df_departamento.head(1)"
   ]
  },
  {
   "cell_type": "code",
   "execution_count": 318,
   "metadata": {},
   "outputs": [],
   "source": [
    "try:\n",
    "    for index, row in df_departamento.iterrows():\n",
    "        cursor.execute(\"INSERT INTO dimDepartamento (id_departamento, nombre_departamento) VALUES (?, ?)\", row['idDepartamento'], row['departamento'])\n",
    "    conn.commit()  \n",
    "except ValueError:\n",
    "    print(\"Error al insertar registros en dimDepartamento\")"
   ]
  },
  {
   "cell_type": "code",
   "execution_count": 319,
   "metadata": {},
   "outputs": [
    {
     "data": {
      "text/html": [
       "<div>\n",
       "<style scoped>\n",
       "    .dataframe tbody tr th:only-of-type {\n",
       "        vertical-align: middle;\n",
       "    }\n",
       "\n",
       "    .dataframe tbody tr th {\n",
       "        vertical-align: top;\n",
       "    }\n",
       "\n",
       "    .dataframe thead th {\n",
       "        text-align: right;\n",
       "    }\n",
       "</style>\n",
       "<table border=\"1\" class=\"dataframe\">\n",
       "  <thead>\n",
       "    <tr style=\"text-align: right;\">\n",
       "      <th></th>\n",
       "      <th>SEXO</th>\n",
       "      <th>idSexo</th>\n",
       "    </tr>\n",
       "  </thead>\n",
       "  <tbody>\n",
       "    <tr>\n",
       "      <th>0</th>\n",
       "      <td>Mujer</td>\n",
       "      <td>1</td>\n",
       "    </tr>\n",
       "  </tbody>\n",
       "</table>\n",
       "</div>"
      ],
      "text/plain": [
       "    SEXO  idSexo\n",
       "0  Mujer       1"
      ]
     },
     "execution_count": 319,
     "metadata": {},
     "output_type": "execute_result"
    }
   ],
   "source": [
    "df_sexo.head(1)"
   ]
  },
  {
   "cell_type": "code",
   "execution_count": 320,
   "metadata": {},
   "outputs": [],
   "source": [
    "try:\n",
    "    for index, row in df_sexo.iterrows():\n",
    "        cursor.execute(\"INSERT INTO dimSexo (idSexo, sexo) VALUES (?, ?)\", row['idSexo'], row['SEXO'])\n",
    "    conn.commit() \n",
    "except ValueError:\n",
    "    print(\"Error al insertar registros en dimSexo\")\n"
   ]
  },
  {
   "cell_type": "code",
   "execution_count": 321,
   "metadata": {},
   "outputs": [
    {
     "data": {
      "text/html": [
       "<div>\n",
       "<style scoped>\n",
       "    .dataframe tbody tr th:only-of-type {\n",
       "        vertical-align: middle;\n",
       "    }\n",
       "\n",
       "    .dataframe tbody tr th {\n",
       "        vertical-align: top;\n",
       "    }\n",
       "\n",
       "    .dataframe thead th {\n",
       "        text-align: right;\n",
       "    }\n",
       "</style>\n",
       "<table border=\"1\" class=\"dataframe\">\n",
       "  <thead>\n",
       "    <tr style=\"text-align: right;\">\n",
       "      <th></th>\n",
       "      <th>ESTADO_CIVIL</th>\n",
       "      <th>idEstadoCivil</th>\n",
       "    </tr>\n",
       "  </thead>\n",
       "  <tbody>\n",
       "    <tr>\n",
       "      <th>0</th>\n",
       "      <td>Viudo(a)</td>\n",
       "      <td>1</td>\n",
       "    </tr>\n",
       "  </tbody>\n",
       "</table>\n",
       "</div>"
      ],
      "text/plain": [
       "  ESTADO_CIVIL  idEstadoCivil\n",
       "0     Viudo(a)              1"
      ]
     },
     "execution_count": 321,
     "metadata": {},
     "output_type": "execute_result"
    }
   ],
   "source": [
    "df_estado_civil.head(1)"
   ]
  },
  {
   "cell_type": "code",
   "execution_count": 322,
   "metadata": {},
   "outputs": [],
   "source": [
    "try:\n",
    "    for index, row in df_estado_civil.iterrows():\n",
    "        cursor.execute(\"INSERT INTO dimEstadoCivil (idEstadoCivil, estadoCivil) VALUES (?, ?)\", row['idEstadoCivil'], row['ESTADO_CIVIL'])\n",
    "    conn.commit()  \n",
    "except ValueError:\n",
    "    print(\"Error al insertar registros en dimEstadoCivil\")"
   ]
  },
  {
   "cell_type": "code",
   "execution_count": 323,
   "metadata": {},
   "outputs": [
    {
     "data": {
      "text/html": [
       "<div>\n",
       "<style scoped>\n",
       "    .dataframe tbody tr th:only-of-type {\n",
       "        vertical-align: middle;\n",
       "    }\n",
       "\n",
       "    .dataframe tbody tr th {\n",
       "        vertical-align: top;\n",
       "    }\n",
       "\n",
       "    .dataframe thead th {\n",
       "        text-align: right;\n",
       "    }\n",
       "</style>\n",
       "<table border=\"1\" class=\"dataframe\">\n",
       "  <thead>\n",
       "    <tr style=\"text-align: right;\">\n",
       "      <th></th>\n",
       "      <th>GRADO_DE_INSTRUCCION</th>\n",
       "      <th>idEducacion</th>\n",
       "    </tr>\n",
       "  </thead>\n",
       "  <tbody>\n",
       "    <tr>\n",
       "      <th>0</th>\n",
       "      <td>Primaria Incompleta</td>\n",
       "      <td>1</td>\n",
       "    </tr>\n",
       "  </tbody>\n",
       "</table>\n",
       "</div>"
      ],
      "text/plain": [
       "  GRADO_DE_INSTRUCCION  idEducacion\n",
       "0  Primaria Incompleta            1"
      ]
     },
     "execution_count": 323,
     "metadata": {},
     "output_type": "execute_result"
    }
   ],
   "source": [
    "df_educacion.head(1)"
   ]
  },
  {
   "cell_type": "code",
   "execution_count": 324,
   "metadata": {},
   "outputs": [],
   "source": [
    "try:\n",
    "    for index, row in df_educacion.iterrows():\n",
    "        cursor.execute(\"INSERT INTO dimEducacion (idEducacion, gradoInstruccion) VALUES (?, ?)\", row['idEducacion'], row['GRADO_DE_INSTRUCCION'])\n",
    "    conn.commit()  \n",
    "except ValueError:\n",
    "    print(\"Error al insertar registros en dimEducacion\")"
   ]
  },
  {
   "cell_type": "code",
   "execution_count": 325,
   "metadata": {},
   "outputs": [
    {
     "data": {
      "text/html": [
       "<div>\n",
       "<style scoped>\n",
       "    .dataframe tbody tr th:only-of-type {\n",
       "        vertical-align: middle;\n",
       "    }\n",
       "\n",
       "    .dataframe tbody tr th {\n",
       "        vertical-align: top;\n",
       "    }\n",
       "\n",
       "    .dataframe thead th {\n",
       "        text-align: right;\n",
       "    }\n",
       "</style>\n",
       "<table border=\"1\" class=\"dataframe\">\n",
       "  <thead>\n",
       "    <tr style=\"text-align: right;\">\n",
       "      <th></th>\n",
       "      <th>LABOR_QUE_DESEMPEÑA</th>\n",
       "      <th>idTrabajo</th>\n",
       "    </tr>\n",
       "  </thead>\n",
       "  <tbody>\n",
       "    <tr>\n",
       "      <th>0</th>\n",
       "      <td>Trabajador Independiente</td>\n",
       "      <td>1</td>\n",
       "    </tr>\n",
       "  </tbody>\n",
       "</table>\n",
       "</div>"
      ],
      "text/plain": [
       "        LABOR_QUE_DESEMPEÑA  idTrabajo\n",
       "0  Trabajador Independiente          1"
      ]
     },
     "execution_count": 325,
     "metadata": {},
     "output_type": "execute_result"
    }
   ],
   "source": [
    "df_trabajo.head(1)"
   ]
  },
  {
   "cell_type": "code",
   "execution_count": 326,
   "metadata": {},
   "outputs": [],
   "source": [
    "try:\n",
    "    for index, row in df_trabajo.iterrows():\n",
    "        cursor.execute(\"INSERT INTO dimTrabajo (idTrabajo, laborDesempeñada) VALUES (?, ?)\", row['idTrabajo'], row['LABOR_QUE_DESEMPEÑA'])\n",
    "    conn.commit()  \n",
    "except ValueError:\n",
    "    print(\"Error al insertar registros en dimTrabajo\")\n"
   ]
  },
  {
   "cell_type": "code",
   "execution_count": 327,
   "metadata": {},
   "outputs": [
    {
     "data": {
      "text/html": [
       "<div>\n",
       "<style scoped>\n",
       "    .dataframe tbody tr th:only-of-type {\n",
       "        vertical-align: middle;\n",
       "    }\n",
       "\n",
       "    .dataframe tbody tr th {\n",
       "        vertical-align: top;\n",
       "    }\n",
       "\n",
       "    .dataframe thead th {\n",
       "        text-align: right;\n",
       "    }\n",
       "</style>\n",
       "<table border=\"1\" class=\"dataframe\">\n",
       "  <thead>\n",
       "    <tr style=\"text-align: right;\">\n",
       "      <th></th>\n",
       "      <th>Tipo de vivienda</th>\n",
       "      <th>idTipoVivienda</th>\n",
       "    </tr>\n",
       "  </thead>\n",
       "  <tbody>\n",
       "    <tr>\n",
       "      <th>0</th>\n",
       "      <td>Casa independiente</td>\n",
       "      <td>1</td>\n",
       "    </tr>\n",
       "  </tbody>\n",
       "</table>\n",
       "</div>"
      ],
      "text/plain": [
       "     Tipo de vivienda  idTipoVivienda\n",
       "0  Casa independiente               1"
      ]
     },
     "execution_count": 327,
     "metadata": {},
     "output_type": "execute_result"
    }
   ],
   "source": [
    "df_tipo_vivienda.head(1)"
   ]
  },
  {
   "cell_type": "code",
   "execution_count": 328,
   "metadata": {},
   "outputs": [],
   "source": [
    "try:\n",
    "    for index, row in df_tipo_vivienda.iterrows():\n",
    "        cursor.execute(\"INSERT INTO dimTipoVivienda (idTipoVivienda, tipoVivienda) VALUES (?, ?)\", row['idTipoVivienda'], row['Tipo de vivienda'])\n",
    "    conn.commit()  \n",
    "except ValueError:\n",
    "    print(\"Error al insertar registros en dimTipoVivienda\")"
   ]
  },
  {
   "cell_type": "code",
   "execution_count": 329,
   "metadata": {},
   "outputs": [
    {
     "data": {
      "text/html": [
       "<div>\n",
       "<style scoped>\n",
       "    .dataframe tbody tr th:only-of-type {\n",
       "        vertical-align: middle;\n",
       "    }\n",
       "\n",
       "    .dataframe tbody tr th {\n",
       "        vertical-align: top;\n",
       "    }\n",
       "\n",
       "    .dataframe thead th {\n",
       "        text-align: right;\n",
       "    }\n",
       "</style>\n",
       "<table border=\"1\" class=\"dataframe\">\n",
       "  <thead>\n",
       "    <tr style=\"text-align: right;\">\n",
       "      <th></th>\n",
       "      <th>Agua</th>\n",
       "      <th>idAgua</th>\n",
       "    </tr>\n",
       "  </thead>\n",
       "  <tbody>\n",
       "    <tr>\n",
       "      <th>0</th>\n",
       "      <td>Red pública, dentro de la vivienda</td>\n",
       "      <td>1</td>\n",
       "    </tr>\n",
       "  </tbody>\n",
       "</table>\n",
       "</div>"
      ],
      "text/plain": [
       "                                 Agua  idAgua\n",
       "0  Red pública, dentro de la vivienda       1"
      ]
     },
     "execution_count": 329,
     "metadata": {},
     "output_type": "execute_result"
    }
   ],
   "source": [
    "df_agua.head(1)"
   ]
  },
  {
   "cell_type": "code",
   "execution_count": 330,
   "metadata": {},
   "outputs": [],
   "source": [
    "try:\n",
    "    for index, row in df_agua.iterrows():\n",
    "        cursor.execute(\"INSERT INTO dimAgua (idAgua, agua) VALUES (?, ?)\", row['idAgua'], row['Agua'])\n",
    "    conn.commit()  \n",
    "except ValueError:\n",
    "    print(\"Error al insertar registros en dimAgua\")"
   ]
  },
  {
   "cell_type": "code",
   "execution_count": 331,
   "metadata": {},
   "outputs": [
    {
     "data": {
      "text/html": [
       "<div>\n",
       "<style scoped>\n",
       "    .dataframe tbody tr th:only-of-type {\n",
       "        vertical-align: middle;\n",
       "    }\n",
       "\n",
       "    .dataframe tbody tr th {\n",
       "        vertical-align: top;\n",
       "    }\n",
       "\n",
       "    .dataframe thead th {\n",
       "        text-align: right;\n",
       "    }\n",
       "</style>\n",
       "<table border=\"1\" class=\"dataframe\">\n",
       "  <thead>\n",
       "    <tr style=\"text-align: right;\">\n",
       "      <th></th>\n",
       "      <th>Telefono</th>\n",
       "      <th>idTelefono</th>\n",
       "    </tr>\n",
       "  </thead>\n",
       "  <tbody>\n",
       "    <tr>\n",
       "      <th>0</th>\n",
       "      <td>No</td>\n",
       "      <td>1</td>\n",
       "    </tr>\n",
       "  </tbody>\n",
       "</table>\n",
       "</div>"
      ],
      "text/plain": [
       "  Telefono  idTelefono\n",
       "0       No           1"
      ]
     },
     "execution_count": 331,
     "metadata": {},
     "output_type": "execute_result"
    }
   ],
   "source": [
    "df_telefono.head(1)"
   ]
  },
  {
   "cell_type": "code",
   "execution_count": 332,
   "metadata": {},
   "outputs": [],
   "source": [
    "try:\n",
    "    for index, row in df_telefono.iterrows():\n",
    "        cursor.execute(\"INSERT INTO dimTelefono (idTelefono, telefono) VALUES (?, ?)\", row['idTelefono'], row['Telefono'])\n",
    "    conn.commit()  \n",
    "except ValueError:\n",
    "    print(\"Error al insertar registros en dimTelefono\")"
   ]
  },
  {
   "cell_type": "code",
   "execution_count": 333,
   "metadata": {},
   "outputs": [
    {
     "data": {
      "text/html": [
       "<div>\n",
       "<style scoped>\n",
       "    .dataframe tbody tr th:only-of-type {\n",
       "        vertical-align: middle;\n",
       "    }\n",
       "\n",
       "    .dataframe tbody tr th {\n",
       "        vertical-align: top;\n",
       "    }\n",
       "\n",
       "    .dataframe thead th {\n",
       "        text-align: right;\n",
       "    }\n",
       "</style>\n",
       "<table border=\"1\" class=\"dataframe\">\n",
       "  <thead>\n",
       "    <tr style=\"text-align: right;\">\n",
       "      <th></th>\n",
       "      <th>Celular</th>\n",
       "      <th>idCelular</th>\n",
       "    </tr>\n",
       "  </thead>\n",
       "  <tbody>\n",
       "    <tr>\n",
       "      <th>0</th>\n",
       "      <td>No</td>\n",
       "      <td>1</td>\n",
       "    </tr>\n",
       "  </tbody>\n",
       "</table>\n",
       "</div>"
      ],
      "text/plain": [
       "  Celular  idCelular\n",
       "0      No          1"
      ]
     },
     "execution_count": 333,
     "metadata": {},
     "output_type": "execute_result"
    }
   ],
   "source": [
    "df_celular.head(1)"
   ]
  },
  {
   "cell_type": "code",
   "execution_count": 334,
   "metadata": {},
   "outputs": [],
   "source": [
    "try:\n",
    "    for index, row in df_celular.iterrows():\n",
    "        cursor.execute(\"INSERT INTO dimCelular (idCelular, celular) VALUES (?, ?)\", row['idCelular'], row['Celular'])\n",
    "    conn.commit()  \n",
    "except ValueError:\n",
    "    print(\"Error al insertar registros en dimCelular\")\n"
   ]
  },
  {
   "cell_type": "code",
   "execution_count": 335,
   "metadata": {},
   "outputs": [
    {
     "data": {
      "text/html": [
       "<div>\n",
       "<style scoped>\n",
       "    .dataframe tbody tr th:only-of-type {\n",
       "        vertical-align: middle;\n",
       "    }\n",
       "\n",
       "    .dataframe tbody tr th {\n",
       "        vertical-align: top;\n",
       "    }\n",
       "\n",
       "    .dataframe thead th {\n",
       "        text-align: right;\n",
       "    }\n",
       "</style>\n",
       "<table border=\"1\" class=\"dataframe\">\n",
       "  <thead>\n",
       "    <tr style=\"text-align: right;\">\n",
       "      <th></th>\n",
       "      <th>Television</th>\n",
       "      <th>idTelevision</th>\n",
       "    </tr>\n",
       "  </thead>\n",
       "  <tbody>\n",
       "    <tr>\n",
       "      <th>0</th>\n",
       "      <td>Sí</td>\n",
       "      <td>1</td>\n",
       "    </tr>\n",
       "  </tbody>\n",
       "</table>\n",
       "</div>"
      ],
      "text/plain": [
       "  Television  idTelevision\n",
       "0         Sí             1"
      ]
     },
     "execution_count": 335,
     "metadata": {},
     "output_type": "execute_result"
    }
   ],
   "source": [
    "df_television.head(1)"
   ]
  },
  {
   "cell_type": "code",
   "execution_count": 336,
   "metadata": {},
   "outputs": [],
   "source": [
    "try:\n",
    "    for index, row in df_television.iterrows():\n",
    "        cursor.execute(\"INSERT INTO dimTelevision (idTelevision, television) VALUES (?, ?)\", row['idTelevision'], row['Television'])\n",
    "    conn.commit()  \n",
    "except ValueError:\n",
    "    print(\"Error al insertar registros en dimTelevision\")"
   ]
  },
  {
   "cell_type": "code",
   "execution_count": 337,
   "metadata": {},
   "outputs": [
    {
     "data": {
      "text/html": [
       "<div>\n",
       "<style scoped>\n",
       "    .dataframe tbody tr th:only-of-type {\n",
       "        vertical-align: middle;\n",
       "    }\n",
       "\n",
       "    .dataframe tbody tr th {\n",
       "        vertical-align: top;\n",
       "    }\n",
       "\n",
       "    .dataframe thead th {\n",
       "        text-align: right;\n",
       "    }\n",
       "</style>\n",
       "<table border=\"1\" class=\"dataframe\">\n",
       "  <thead>\n",
       "    <tr style=\"text-align: right;\">\n",
       "      <th></th>\n",
       "      <th>Internet</th>\n",
       "      <th>idInternet</th>\n",
       "    </tr>\n",
       "  </thead>\n",
       "  <tbody>\n",
       "    <tr>\n",
       "      <th>0</th>\n",
       "      <td>No</td>\n",
       "      <td>1</td>\n",
       "    </tr>\n",
       "  </tbody>\n",
       "</table>\n",
       "</div>"
      ],
      "text/plain": [
       "  Internet  idInternet\n",
       "0       No           1"
      ]
     },
     "execution_count": 337,
     "metadata": {},
     "output_type": "execute_result"
    }
   ],
   "source": [
    "df_internet.head(1)"
   ]
  },
  {
   "cell_type": "code",
   "execution_count": 338,
   "metadata": {},
   "outputs": [],
   "source": [
    "try:\n",
    "    for index, row in df_internet.iterrows():\n",
    "        cursor.execute(\"INSERT INTO dimInternet (idInternet, internet) VALUES (?, ?)\", row['idInternet'], row['Internet'])\n",
    "    conn.commit()  \n",
    "except ValueError:\n",
    "    print(\"Error al insertar registros en dimInternet\")"
   ]
  },
  {
   "cell_type": "code",
   "execution_count": 339,
   "metadata": {},
   "outputs": [
    {
     "data": {
      "text/html": [
       "<div>\n",
       "<style scoped>\n",
       "    .dataframe tbody tr th:only-of-type {\n",
       "        vertical-align: middle;\n",
       "    }\n",
       "\n",
       "    .dataframe tbody tr th {\n",
       "        vertical-align: top;\n",
       "    }\n",
       "\n",
       "    .dataframe thead th {\n",
       "        text-align: right;\n",
       "    }\n",
       "</style>\n",
       "<table border=\"1\" class=\"dataframe\">\n",
       "  <thead>\n",
       "    <tr style=\"text-align: right;\">\n",
       "      <th></th>\n",
       "      <th>Servicios higienicos</th>\n",
       "      <th>idServiciosHigienicos</th>\n",
       "    </tr>\n",
       "  </thead>\n",
       "  <tbody>\n",
       "    <tr>\n",
       "      <th>0</th>\n",
       "      <td>No</td>\n",
       "      <td>1</td>\n",
       "    </tr>\n",
       "  </tbody>\n",
       "</table>\n",
       "</div>"
      ],
      "text/plain": [
       "  Servicios higienicos  idServiciosHigienicos\n",
       "0                   No                      1"
      ]
     },
     "execution_count": 339,
     "metadata": {},
     "output_type": "execute_result"
    }
   ],
   "source": [
    "df_servicios_higienicos.head(1)"
   ]
  },
  {
   "cell_type": "code",
   "execution_count": 340,
   "metadata": {},
   "outputs": [],
   "source": [
    "try:\n",
    "    for index, row in df_servicios_higienicos.iterrows():\n",
    "        cursor.execute(\"INSERT INTO dimServiciosHigienicos (idServiciosHigienicos, serviciosHigienicos) VALUES (?, ?)\", row['idServiciosHigienicos'], row['Servicios higienicos'])\n",
    "    conn.commit()  \n",
    "except ValueError:\n",
    "    print(\"Error al insertar registros en dimServiciosHigienicos\")"
   ]
  },
  {
   "cell_type": "code",
   "execution_count": 341,
   "metadata": {},
   "outputs": [
    {
     "data": {
      "text/html": [
       "<div>\n",
       "<style scoped>\n",
       "    .dataframe tbody tr th:only-of-type {\n",
       "        vertical-align: middle;\n",
       "    }\n",
       "\n",
       "    .dataframe tbody tr th {\n",
       "        vertical-align: top;\n",
       "    }\n",
       "\n",
       "    .dataframe thead th {\n",
       "        text-align: right;\n",
       "    }\n",
       "</style>\n",
       "<table border=\"1\" class=\"dataframe\">\n",
       "  <thead>\n",
       "    <tr style=\"text-align: right;\">\n",
       "      <th></th>\n",
       "      <th>Niños en colegio</th>\n",
       "      <th>idEducacionNinos</th>\n",
       "    </tr>\n",
       "  </thead>\n",
       "  <tbody>\n",
       "    <tr>\n",
       "      <th>0</th>\n",
       "      <td>Hogares con niños que asisten a la escuela</td>\n",
       "      <td>1</td>\n",
       "    </tr>\n",
       "  </tbody>\n",
       "</table>\n",
       "</div>"
      ],
      "text/plain": [
       "                             Niños en colegio  idEducacionNinos\n",
       "0  Hogares con niños que asisten a la escuela                 1"
      ]
     },
     "execution_count": 341,
     "metadata": {},
     "output_type": "execute_result"
    }
   ],
   "source": [
    "df_educacion_ninos.head(1)"
   ]
  },
  {
   "cell_type": "code",
   "execution_count": 342,
   "metadata": {},
   "outputs": [],
   "source": [
    "try:\n",
    "    for index, row in df_educacion_ninos.iterrows():\n",
    "        cursor.execute(\"INSERT INTO dimEducacionNiños (idEducacionNiños, niñosEnColegio) VALUES (?, ?)\", row['idEducacionNinos'], row['Niños en colegio'])\n",
    "    conn.commit()  \n",
    "except ValueError:\n",
    "    print(\"Error al insertar registros en dimEducacionNiños\")"
   ]
  },
  {
   "cell_type": "code",
   "execution_count": 343,
   "metadata": {},
   "outputs": [
    {
     "data": {
      "text/html": [
       "<div>\n",
       "<style scoped>\n",
       "    .dataframe tbody tr th:only-of-type {\n",
       "        vertical-align: middle;\n",
       "    }\n",
       "\n",
       "    .dataframe tbody tr th {\n",
       "        vertical-align: top;\n",
       "    }\n",
       "\n",
       "    .dataframe thead th {\n",
       "        text-align: right;\n",
       "    }\n",
       "</style>\n",
       "<table border=\"1\" class=\"dataframe\">\n",
       "  <thead>\n",
       "    <tr style=\"text-align: right;\">\n",
       "      <th></th>\n",
       "      <th>Estado</th>\n",
       "      <th>idEstadoVivienda</th>\n",
       "    </tr>\n",
       "  </thead>\n",
       "  <tbody>\n",
       "    <tr>\n",
       "      <th>0</th>\n",
       "      <td>Propia, totalmente pagada</td>\n",
       "      <td>1</td>\n",
       "    </tr>\n",
       "  </tbody>\n",
       "</table>\n",
       "</div>"
      ],
      "text/plain": [
       "                      Estado  idEstadoVivienda\n",
       "0  Propia, totalmente pagada                 1"
      ]
     },
     "execution_count": 343,
     "metadata": {},
     "output_type": "execute_result"
    }
   ],
   "source": [
    "df_estado_vivienda.head(1)"
   ]
  },
  {
   "cell_type": "code",
   "execution_count": 344,
   "metadata": {},
   "outputs": [],
   "source": [
    "try:\n",
    "    for index, row in df_estado_vivienda.iterrows():\n",
    "        cursor.execute(\"INSERT INTO dimEstadoVivienda (idEstadoVivienda, estadoVivienda) VALUES (?, ?)\", row['idEstadoVivienda'], row['Estado'])\n",
    "    conn.commit()  \n",
    "except ValueError:\n",
    "    print(\"Error al insertar registros en dimEstadoVivienda\")\n"
   ]
  },
  {
   "cell_type": "code",
   "execution_count": 345,
   "metadata": {},
   "outputs": [
    {
     "data": {
      "text/html": [
       "<div>\n",
       "<style scoped>\n",
       "    .dataframe tbody tr th:only-of-type {\n",
       "        vertical-align: middle;\n",
       "    }\n",
       "\n",
       "    .dataframe tbody tr th {\n",
       "        vertical-align: top;\n",
       "    }\n",
       "\n",
       "    .dataframe thead th {\n",
       "        text-align: right;\n",
       "    }\n",
       "</style>\n",
       "<table border=\"1\" class=\"dataframe\">\n",
       "  <thead>\n",
       "    <tr style=\"text-align: right;\">\n",
       "      <th></th>\n",
       "      <th>AÑO</th>\n",
       "      <th>MES</th>\n",
       "      <th>idTiempo</th>\n",
       "    </tr>\n",
       "  </thead>\n",
       "  <tbody>\n",
       "    <tr>\n",
       "      <th>0</th>\n",
       "      <td>2013</td>\n",
       "      <td>5</td>\n",
       "      <td>1</td>\n",
       "    </tr>\n",
       "    <tr>\n",
       "      <th>1</th>\n",
       "      <td>2013</td>\n",
       "      <td>8</td>\n",
       "      <td>2</td>\n",
       "    </tr>\n",
       "    <tr>\n",
       "      <th>2</th>\n",
       "      <td>2013</td>\n",
       "      <td>11</td>\n",
       "      <td>3</td>\n",
       "    </tr>\n",
       "    <tr>\n",
       "      <th>3</th>\n",
       "      <td>2013</td>\n",
       "      <td>2</td>\n",
       "      <td>4</td>\n",
       "    </tr>\n",
       "    <tr>\n",
       "      <th>4</th>\n",
       "      <td>2013</td>\n",
       "      <td>3</td>\n",
       "      <td>5</td>\n",
       "    </tr>\n",
       "  </tbody>\n",
       "</table>\n",
       "</div>"
      ],
      "text/plain": [
       "    AÑO  MES  idTiempo\n",
       "0  2013    5         1\n",
       "1  2013    8         2\n",
       "2  2013   11         3\n",
       "3  2013    2         4\n",
       "4  2013    3         5"
      ]
     },
     "execution_count": 345,
     "metadata": {},
     "output_type": "execute_result"
    }
   ],
   "source": [
    "df_tiempo.head()"
   ]
  },
  {
   "cell_type": "code",
   "execution_count": 346,
   "metadata": {},
   "outputs": [],
   "source": [
    "try:\n",
    "    for index, row in df_tiempo.iterrows():\n",
    "        cursor.execute(\"INSERT INTO dimTiempo (idTiempo, año, mes) VALUES (?, ?, ?)\", int(row['idTiempo']), int(row['AÑO']), int(row['MES']))\n",
    "    conn.commit()\n",
    "except ValueError:\n",
    "    print(\"Error al insertar registros en dimEstadoVivienda\")\n"
   ]
  },
  {
   "cell_type": "code",
   "execution_count": 347,
   "metadata": {},
   "outputs": [
    {
     "data": {
      "text/plain": [
       "Index(['idTiempo', 'id_departamento', 'id_provincia', 'id_distrito', 'idSexo',\n",
       "       'idEstadoCivil', 'idEducacion', 'idTrabajo', 'idTipoVivienda', 'idAgua',\n",
       "       'idTelefono', 'idCelular', 'idTelevision', 'idInternet',\n",
       "       'idServiciosHigienicos', 'idEducacionNiños', 'idEstadoVivienda',\n",
       "       'gananciaNeta', 'gastoEnProductos', 'horasTrabajoSemAnterior',\n",
       "       'tiempoTrabajoAños', 'tiempoTrabajoMeses', 'numeroHabitaciones',\n",
       "       'altitud', 'latitud', 'longitud'],\n",
       "      dtype='object')"
      ]
     },
     "execution_count": 347,
     "metadata": {},
     "output_type": "execute_result"
    }
   ],
   "source": [
    "df_factBalanceEconomico.columns"
   ]
  },
  {
   "cell_type": "code",
   "execution_count": 348,
   "metadata": {},
   "outputs": [
    {
     "data": {
      "text/plain": [
       "Index(['AÑO', 'MES', 'LABOR_QUE_DESEMPEÑA', 'HORAS_TRABAJO_SEM_ANTERIOR',\n",
       "       'TIEMPO_TRABAJO_AÑOS', 'TIEMPO_TRABAJO_MESES', 'GANANCIA_NETA',\n",
       "       'GASTO_EN_PRODUCTOS', 'SEXO', 'ESTADO_CIVIL', 'GRADO_DE_INSTRUCCION',\n",
       "       'Tipo de vivienda', 'Numero de habitaciones', 'Estado', 'Agua',\n",
       "       'Telefono', 'Celular', 'Television', 'Internet', 'Servicios higienicos',\n",
       "       'Niños en colegio', 'departamento', 'provincia', 'distrito', 'altitud',\n",
       "       'latitud', 'longitud'],\n",
       "      dtype='object')"
      ]
     },
     "execution_count": 348,
     "metadata": {},
     "output_type": "execute_result"
    }
   ],
   "source": [
    "df.columns"
   ]
  },
  {
   "cell_type": "code",
   "execution_count": 349,
   "metadata": {},
   "outputs": [
    {
     "data": {
      "text/html": [
       "<div>\n",
       "<style scoped>\n",
       "    .dataframe tbody tr th:only-of-type {\n",
       "        vertical-align: middle;\n",
       "    }\n",
       "\n",
       "    .dataframe tbody tr th {\n",
       "        vertical-align: top;\n",
       "    }\n",
       "\n",
       "    .dataframe thead th {\n",
       "        text-align: right;\n",
       "    }\n",
       "</style>\n",
       "<table border=\"1\" class=\"dataframe\">\n",
       "  <thead>\n",
       "    <tr style=\"text-align: right;\">\n",
       "      <th></th>\n",
       "      <th>AÑO</th>\n",
       "      <th>MES</th>\n",
       "      <th>idTiempo</th>\n",
       "    </tr>\n",
       "  </thead>\n",
       "  <tbody>\n",
       "    <tr>\n",
       "      <th>0</th>\n",
       "      <td>2013</td>\n",
       "      <td>5</td>\n",
       "      <td>1</td>\n",
       "    </tr>\n",
       "  </tbody>\n",
       "</table>\n",
       "</div>"
      ],
      "text/plain": [
       "    AÑO  MES  idTiempo\n",
       "0  2013    5         1"
      ]
     },
     "execution_count": 349,
     "metadata": {},
     "output_type": "execute_result"
    }
   ],
   "source": [
    "df_tiempo.head(1)"
   ]
  },
  {
   "cell_type": "code",
   "execution_count": 350,
   "metadata": {},
   "outputs": [
    {
     "data": {
      "text/html": [
       "<div>\n",
       "<style scoped>\n",
       "    .dataframe tbody tr th:only-of-type {\n",
       "        vertical-align: middle;\n",
       "    }\n",
       "\n",
       "    .dataframe tbody tr th {\n",
       "        vertical-align: top;\n",
       "    }\n",
       "\n",
       "    .dataframe thead th {\n",
       "        text-align: right;\n",
       "    }\n",
       "</style>\n",
       "<table border=\"1\" class=\"dataframe\">\n",
       "  <thead>\n",
       "    <tr style=\"text-align: right;\">\n",
       "      <th></th>\n",
       "      <th>AÑO</th>\n",
       "      <th>MES</th>\n",
       "      <th>idTiempo</th>\n",
       "      <th>AÑO-MES</th>\n",
       "    </tr>\n",
       "  </thead>\n",
       "  <tbody>\n",
       "    <tr>\n",
       "      <th>0</th>\n",
       "      <td>2013</td>\n",
       "      <td>5</td>\n",
       "      <td>1</td>\n",
       "      <td>2013-5</td>\n",
       "    </tr>\n",
       "  </tbody>\n",
       "</table>\n",
       "</div>"
      ],
      "text/plain": [
       "    AÑO  MES  idTiempo AÑO-MES\n",
       "0  2013    5         1  2013-5"
      ]
     },
     "execution_count": 350,
     "metadata": {},
     "output_type": "execute_result"
    }
   ],
   "source": [
    "df_tiempo['AÑO-MES'] = df_tiempo['AÑO'].astype('str')+'-'+df_tiempo['MES'].astype('str')\n",
    "df_tiempo.head(1)"
   ]
  },
  {
   "cell_type": "code",
   "execution_count": 351,
   "metadata": {},
   "outputs": [
    {
     "data": {
      "text/html": [
       "<div>\n",
       "<style scoped>\n",
       "    .dataframe tbody tr th:only-of-type {\n",
       "        vertical-align: middle;\n",
       "    }\n",
       "\n",
       "    .dataframe tbody tr th {\n",
       "        vertical-align: top;\n",
       "    }\n",
       "\n",
       "    .dataframe thead th {\n",
       "        text-align: right;\n",
       "    }\n",
       "</style>\n",
       "<table border=\"1\" class=\"dataframe\">\n",
       "  <thead>\n",
       "    <tr style=\"text-align: right;\">\n",
       "      <th></th>\n",
       "      <th>AÑO</th>\n",
       "      <th>MES</th>\n",
       "      <th>LABOR_QUE_DESEMPEÑA</th>\n",
       "      <th>HORAS_TRABAJO_SEM_ANTERIOR</th>\n",
       "      <th>TIEMPO_TRABAJO_AÑOS</th>\n",
       "      <th>TIEMPO_TRABAJO_MESES</th>\n",
       "      <th>GANANCIA_NETA</th>\n",
       "      <th>GASTO_EN_PRODUCTOS</th>\n",
       "      <th>SEXO</th>\n",
       "      <th>ESTADO_CIVIL</th>\n",
       "      <th>...</th>\n",
       "      <th>Internet</th>\n",
       "      <th>Servicios higienicos</th>\n",
       "      <th>Niños en colegio</th>\n",
       "      <th>departamento</th>\n",
       "      <th>provincia</th>\n",
       "      <th>distrito</th>\n",
       "      <th>altitud</th>\n",
       "      <th>latitud</th>\n",
       "      <th>longitud</th>\n",
       "      <th>AÑO-MES</th>\n",
       "    </tr>\n",
       "  </thead>\n",
       "  <tbody>\n",
       "    <tr>\n",
       "      <th>0</th>\n",
       "      <td>2013</td>\n",
       "      <td>5</td>\n",
       "      <td>Trabajador Independiente</td>\n",
       "      <td>49</td>\n",
       "      <td>1</td>\n",
       "      <td>0</td>\n",
       "      <td>27.0</td>\n",
       "      <td>152.0</td>\n",
       "      <td>Mujer</td>\n",
       "      <td>Viudo(a)</td>\n",
       "      <td>...</td>\n",
       "      <td>No</td>\n",
       "      <td>No</td>\n",
       "      <td>Hogares con niños que asisten a la escuela</td>\n",
       "      <td>AMAZONAS</td>\n",
       "      <td>CHACHAPOYAS</td>\n",
       "      <td>CHACHAPOYAS</td>\n",
       "      <td>2338.0</td>\n",
       "      <td>-6.2294</td>\n",
       "      <td>-77.8728</td>\n",
       "      <td>2013-5</td>\n",
       "    </tr>\n",
       "  </tbody>\n",
       "</table>\n",
       "<p>1 rows × 28 columns</p>\n",
       "</div>"
      ],
      "text/plain": [
       "    AÑO  MES       LABOR_QUE_DESEMPEÑA  HORAS_TRABAJO_SEM_ANTERIOR  \\\n",
       "0  2013    5  Trabajador Independiente                          49   \n",
       "\n",
       "   TIEMPO_TRABAJO_AÑOS  TIEMPO_TRABAJO_MESES  GANANCIA_NETA  \\\n",
       "0                    1                     0           27.0   \n",
       "\n",
       "   GASTO_EN_PRODUCTOS   SEXO ESTADO_CIVIL  ... Internet Servicios higienicos  \\\n",
       "0               152.0  Mujer     Viudo(a)  ...       No                   No   \n",
       "\n",
       "                             Niños en colegio departamento    provincia  \\\n",
       "0  Hogares con niños que asisten a la escuela     AMAZONAS  CHACHAPOYAS   \n",
       "\n",
       "      distrito altitud latitud longitud AÑO-MES  \n",
       "0  CHACHAPOYAS  2338.0 -6.2294 -77.8728  2013-5  \n",
       "\n",
       "[1 rows x 28 columns]"
      ]
     },
     "execution_count": 351,
     "metadata": {},
     "output_type": "execute_result"
    }
   ],
   "source": [
    "df['AÑO-MES'] = df['AÑO'].astype('str')+'-'+df['MES'].astype('str')\n",
    "df.head(1)"
   ]
  },
  {
   "cell_type": "code",
   "execution_count": 352,
   "metadata": {},
   "outputs": [],
   "source": [
    "df_merged1 = df.merge(df_distrito[['distrito', 'idDistrito']], left_on='distrito', right_on='distrito', how='left')\n",
    "df_merged2 = df_merged1.merge(df_provincia[['provincia','idProvincia']],left_on='provincia',right_on='provincia',how='left')\n",
    "df_merged3 = df_merged2.merge(df_departamento[['departamento','idDepartamento']],left_on='departamento',right_on='departamento',how='left')\n",
    "df_merged4 = df_merged3.merge(df_sexo[['SEXO','idSexo']],left_on='SEXO',right_on='SEXO',how='left')\n",
    "df_merged5 = df_merged4.merge(df_estado_civil[['ESTADO_CIVIL','idEstadoCivil']],left_on='ESTADO_CIVIL',right_on='ESTADO_CIVIL',how='left')\n",
    "df_merged6 = df_merged5.merge(df_educacion[['GRADO_DE_INSTRUCCION','idEducacion']],left_on='GRADO_DE_INSTRUCCION',right_on='GRADO_DE_INSTRUCCION',how='left')\n",
    "df_merged7 = df_merged6.merge(df_trabajo[['LABOR_QUE_DESEMPEÑA','idTrabajo']],left_on='LABOR_QUE_DESEMPEÑA',right_on='LABOR_QUE_DESEMPEÑA',how='left')\n",
    "df_merged8 = df_merged7.merge(df_tipo_vivienda[['Tipo de vivienda','idTipoVivienda']],left_on='Tipo de vivienda',right_on='Tipo de vivienda',how='left')\n",
    "df_merged9 = df_merged8.merge(df_agua[['Agua','idAgua']],left_on='Agua',right_on='Agua',how='left')\n",
    "df_merged10 = df_merged9.merge(df_telefono[['Telefono','idTelefono']],left_on='Telefono',right_on='Telefono',how='left')\n",
    "df_merged11 = df_merged10.merge(df_celular[['Celular','idCelular']],left_on='Celular',right_on='Celular',how='left')\n",
    "df_merged12 = df_merged11.merge(df_television[['Television','idTelevision']],left_on='Television',right_on='Television',how='left')\n",
    "df_merged13 = df_merged12.merge(df_internet[['Internet','idInternet']],left_on='Internet',right_on='Internet',how='left')\n",
    "df_merged14 = df_merged13.merge(df_servicios_higienicos[['Servicios higienicos','idServiciosHigienicos']],left_on='Servicios higienicos',right_on='Servicios higienicos',how='left')\n",
    "df_merged15 = df_merged14.merge(df_educacion_ninos[['Niños en colegio','idEducacionNinos']],left_on='Niños en colegio',right_on='Niños en colegio',how='left')\n",
    "df_merged16 = df_merged15.merge(df_estado_vivienda[['Estado','idEstadoVivienda']],left_on='Estado',right_on='Estado',how='left')\n",
    "df_merged17 = df_merged16.merge(df_tiempo[['AÑO','MES','idTiempo','AÑO-MES']],left_on='AÑO-MES',right_on='AÑO-MES',how='left')"
   ]
  },
  {
   "cell_type": "code",
   "execution_count": 353,
   "metadata": {},
   "outputs": [
    {
     "data": {
      "text/plain": [
       "Index(['AÑO_x', 'MES_x', 'LABOR_QUE_DESEMPEÑA', 'HORAS_TRABAJO_SEM_ANTERIOR',\n",
       "       'TIEMPO_TRABAJO_AÑOS', 'TIEMPO_TRABAJO_MESES', 'GANANCIA_NETA',\n",
       "       'GASTO_EN_PRODUCTOS', 'SEXO', 'ESTADO_CIVIL', 'GRADO_DE_INSTRUCCION',\n",
       "       'Tipo de vivienda', 'Numero de habitaciones', 'Estado', 'Agua',\n",
       "       'Telefono', 'Celular', 'Television', 'Internet', 'Servicios higienicos',\n",
       "       'Niños en colegio', 'departamento', 'provincia', 'distrito', 'altitud',\n",
       "       'latitud', 'longitud', 'AÑO-MES', 'idDistrito', 'idProvincia',\n",
       "       'idDepartamento', 'idSexo', 'idEstadoCivil', 'idEducacion', 'idTrabajo',\n",
       "       'idTipoVivienda', 'idAgua', 'idTelefono', 'idCelular', 'idTelevision',\n",
       "       'idInternet', 'idServiciosHigienicos', 'idEducacionNinos',\n",
       "       'idEstadoVivienda', 'AÑO_y', 'MES_y', 'idTiempo'],\n",
       "      dtype='object')"
      ]
     },
     "execution_count": 353,
     "metadata": {},
     "output_type": "execute_result"
    }
   ],
   "source": [
    "df_merged17.columns"
   ]
  },
  {
   "cell_type": "code",
   "execution_count": 354,
   "metadata": {},
   "outputs": [
    {
     "data": {
      "text/html": [
       "<div>\n",
       "<style scoped>\n",
       "    .dataframe tbody tr th:only-of-type {\n",
       "        vertical-align: middle;\n",
       "    }\n",
       "\n",
       "    .dataframe tbody tr th {\n",
       "        vertical-align: top;\n",
       "    }\n",
       "\n",
       "    .dataframe thead th {\n",
       "        text-align: right;\n",
       "    }\n",
       "</style>\n",
       "<table border=\"1\" class=\"dataframe\">\n",
       "  <thead>\n",
       "    <tr style=\"text-align: right;\">\n",
       "      <th></th>\n",
       "      <th>AÑO</th>\n",
       "      <th>MES</th>\n",
       "      <th>idTiempo</th>\n",
       "      <th>AÑO-MES</th>\n",
       "    </tr>\n",
       "  </thead>\n",
       "  <tbody>\n",
       "    <tr>\n",
       "      <th>0</th>\n",
       "      <td>2013</td>\n",
       "      <td>5</td>\n",
       "      <td>1</td>\n",
       "      <td>2013-5</td>\n",
       "    </tr>\n",
       "    <tr>\n",
       "      <th>1</th>\n",
       "      <td>2013</td>\n",
       "      <td>8</td>\n",
       "      <td>2</td>\n",
       "      <td>2013-8</td>\n",
       "    </tr>\n",
       "    <tr>\n",
       "      <th>2</th>\n",
       "      <td>2013</td>\n",
       "      <td>11</td>\n",
       "      <td>3</td>\n",
       "      <td>2013-11</td>\n",
       "    </tr>\n",
       "    <tr>\n",
       "      <th>3</th>\n",
       "      <td>2013</td>\n",
       "      <td>2</td>\n",
       "      <td>4</td>\n",
       "      <td>2013-2</td>\n",
       "    </tr>\n",
       "    <tr>\n",
       "      <th>4</th>\n",
       "      <td>2013</td>\n",
       "      <td>3</td>\n",
       "      <td>5</td>\n",
       "      <td>2013-3</td>\n",
       "    </tr>\n",
       "  </tbody>\n",
       "</table>\n",
       "</div>"
      ],
      "text/plain": [
       "    AÑO  MES  idTiempo  AÑO-MES\n",
       "0  2013    5         1   2013-5\n",
       "1  2013    8         2   2013-8\n",
       "2  2013   11         3  2013-11\n",
       "3  2013    2         4   2013-2\n",
       "4  2013    3         5   2013-3"
      ]
     },
     "execution_count": 354,
     "metadata": {},
     "output_type": "execute_result"
    }
   ],
   "source": [
    "df_tiempo.head()"
   ]
  },
  {
   "cell_type": "code",
   "execution_count": 355,
   "metadata": {},
   "outputs": [
    {
     "data": {
      "text/plain": [
       "(132, 4)"
      ]
     },
     "execution_count": 355,
     "metadata": {},
     "output_type": "execute_result"
    }
   ],
   "source": [
    "df_tiempo.shape"
   ]
  },
  {
   "cell_type": "code",
   "execution_count": 356,
   "metadata": {},
   "outputs": [
    {
     "data": {
      "text/plain": [
       "array([  1,   2,   3,   4,   5,   6,   7,   8,   9,  10,  11,  12,  13,\n",
       "        14,  15,  16,  17,  18,  19,  20,  21,  22,  23,  24,  25,  26,\n",
       "        27,  28,  29,  30,  31,  32,  33,  34,  35,  36,  37,  38,  39,\n",
       "        40,  41,  42,  43,  44,  45,  46,  47,  48,  49,  50,  51,  52,\n",
       "        53,  54,  55,  56,  57,  58,  59,  60,  61,  62,  63,  64,  65,\n",
       "        66,  67,  68,  69,  70,  71,  72,  73,  74,  75,  76,  77,  78,\n",
       "        79,  80,  81,  82,  83,  84,  85,  86,  87,  88,  89,  90,  91,\n",
       "        92,  93,  94,  95,  96,  97,  98,  99, 100, 101, 102, 103, 104,\n",
       "       105, 106, 107, 108, 109, 110, 111, 112, 113, 114, 115, 116, 117,\n",
       "       118, 119, 120, 121, 122, 123, 124, 125, 126, 127, 128, 129, 130,\n",
       "       131, 132])"
      ]
     },
     "execution_count": 356,
     "metadata": {},
     "output_type": "execute_result"
    }
   ],
   "source": [
    "df_tiempo['idTiempo'].unique()"
   ]
  },
  {
   "cell_type": "code",
   "execution_count": 357,
   "metadata": {},
   "outputs": [],
   "source": [
    "try:\n",
    "    for index, row in df_merged17.iterrows():\n",
    "        cursor.execute(\"INSERT INTO factBalanceEconomico (idTiempo,id_departamento,id_provincia,id_distrito,idSexo,idEstadoCivil,idEducacion,idTrabajo,idTipoVivienda,idAgua,idTelefono,idCelular,idTelevision,idInternet,idServiciosHigienicos,idEducacionNiños,idEstadoVivienda,gananciaNeta,gastoEnProductos,horasTrabajoSemAnterior,tiempoTrabajoAños,tiempoTrabajoMeses,numeroHabitaciones,altitud,latitud,longitud) VALUES (?, ?, ?, ?, ?, ?, ?, ?, ?, ?, ?, ?, ?, ?, ?, ?, ?, ?, ?, ?, ?, ?, ?, ?, ?, ?)\", \n",
    "                       row['idTiempo'], row['idDepartamento'], row['idProvincia'],row['idDistrito'],row['idSexo'],row['idEstadoCivil'],\n",
    "                       row['idEducacion'],row['idTrabajo'],row['idTipoVivienda'],row['idAgua'],row['idTelefono'],row['idCelular'],row['idTelevision'],\n",
    "                       row['idInternet'],row['idServiciosHigienicos'],row['idEducacionNinos'],row['idEstadoVivienda'],row['GANANCIA_NETA'],\n",
    "                       row['GASTO_EN_PRODUCTOS'],row['HORAS_TRABAJO_SEM_ANTERIOR'],row['TIEMPO_TRABAJO_AÑOS'],row['TIEMPO_TRABAJO_MESES'],\n",
    "                       row['Numero de habitaciones'],row['altitud'],row['latitud'],row['longitud'])\n",
    "    conn.commit()\n",
    "except ValueError:\n",
    "    print(\"Error al insertar registros en dimEstadoVivienda\")\n"
   ]
  }
 ],
 "metadata": {
  "kernelspec": {
   "display_name": "myvenv",
   "language": "python",
   "name": "python3"
  },
  "language_info": {
   "codemirror_mode": {
    "name": "ipython",
    "version": 3
   },
   "file_extension": ".py",
   "mimetype": "text/x-python",
   "name": "python",
   "nbconvert_exporter": "python",
   "pygments_lexer": "ipython3",
   "version": "3.11.9"
  }
 },
 "nbformat": 4,
 "nbformat_minor": 2
}
